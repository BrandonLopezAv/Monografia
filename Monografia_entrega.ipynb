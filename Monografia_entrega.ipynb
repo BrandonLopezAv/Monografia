{
 "cells": [
  {
   "cell_type": "code",
   "execution_count": 2,
   "id": "e1a95bc2",
   "metadata": {},
   "outputs": [],
   "source": [
    "import pandas as pd\n",
    "import numpy as np\n",
    "import matplotlib as mpl\n",
    "from sklearn.model_selection import train_test_split, cross_val_score\n",
    "from sklearn.linear_model import LinearRegression, Lasso, Ridge\n",
    "from sklearn.metrics import r2_score, accuracy_score, f1_score, roc_auc_score,plot_confusion_matrix,confusion_matrix\n",
    "from sklearn.metrics import classification_report\n",
    "import seaborn as sns\n",
    "from sklearn import preprocessing\n",
    "from sklearn.ensemble import BaggingRegressor\n",
    "from sklearn.svm import LinearSVR\n",
    "from sklearn.linear_model import LogisticRegression\n",
    "from sklearn.ensemble import RandomForestRegressor\n",
    "from sklearn.ensemble import GradientBoostingRegressor\n",
    "from sklearn.linear_model import RidgeCV\n",
    "from sklearn.neighbors import KNeighborsClassifier\n",
    "from sklearn.tree import DecisionTreeClassifier\n",
    "from sklearn import svm\n",
    "#from sklearn.ensemble import StackingRegressor\n",
    "#from mlxtend.regressor import StackingRegressor\n",
    "from sklearn.linear_model import ElasticNet\n",
    "%matplotlib inline\n",
    "from sklearn.ensemble import AdaBoostRegressor\n",
    "import statsmodels.api as sm\n",
    "import random\n",
    "import matplotlib.pyplot as plt\n",
    "from matplotlib import cm\n",
    "from matplotlib import colors\n",
    "from sklearn.model_selection import GridSearchCV"
   ]
  },
  {
   "cell_type": "code",
   "execution_count": 3,
   "id": "eeb18f21",
   "metadata": {},
   "outputs": [],
   "source": [
    "BD= pd.read_excel(\"C:/Users/USUARIO/Desktop/Tarea3/BD.xlsx\")"
   ]
  },
  {
   "cell_type": "code",
   "execution_count": 4,
   "id": "942842e4",
   "metadata": {},
   "outputs": [
    {
     "data": {
      "text/html": [
       "<div>\n",
       "<style scoped>\n",
       "    .dataframe tbody tr th:only-of-type {\n",
       "        vertical-align: middle;\n",
       "    }\n",
       "\n",
       "    .dataframe tbody tr th {\n",
       "        vertical-align: top;\n",
       "    }\n",
       "\n",
       "    .dataframe thead th {\n",
       "        text-align: right;\n",
       "    }\n",
       "</style>\n",
       "<table border=\"1\" class=\"dataframe\">\n",
       "  <thead>\n",
       "    <tr style=\"text-align: right;\">\n",
       "      <th></th>\n",
       "      <th>Aceptado</th>\n",
       "      <th>Genero</th>\n",
       "      <th>ingresos</th>\n",
       "      <th>Activos</th>\n",
       "      <th>Unnamed: 4</th>\n",
       "      <th>Unnamed: 5</th>\n",
       "    </tr>\n",
       "  </thead>\n",
       "  <tbody>\n",
       "    <tr>\n",
       "      <th>0</th>\n",
       "      <td>0</td>\n",
       "      <td>H</td>\n",
       "      <td>612030</td>\n",
       "      <td>6984966</td>\n",
       "      <td>NaN</td>\n",
       "      <td>NaN</td>\n",
       "    </tr>\n",
       "    <tr>\n",
       "      <th>1</th>\n",
       "      <td>0</td>\n",
       "      <td>M</td>\n",
       "      <td>740910</td>\n",
       "      <td>8750057</td>\n",
       "      <td>NaN</td>\n",
       "      <td>NaN</td>\n",
       "    </tr>\n",
       "    <tr>\n",
       "      <th>2</th>\n",
       "      <td>0</td>\n",
       "      <td>H</td>\n",
       "      <td>613001</td>\n",
       "      <td>12635092</td>\n",
       "      <td>NaN</td>\n",
       "      <td>NaN</td>\n",
       "    </tr>\n",
       "    <tr>\n",
       "      <th>3</th>\n",
       "      <td>0</td>\n",
       "      <td>H</td>\n",
       "      <td>620337</td>\n",
       "      <td>1832177</td>\n",
       "      <td>NaN</td>\n",
       "      <td>NaN</td>\n",
       "    </tr>\n",
       "    <tr>\n",
       "      <th>4</th>\n",
       "      <td>0</td>\n",
       "      <td>M</td>\n",
       "      <td>714533</td>\n",
       "      <td>5419551</td>\n",
       "      <td>NaN</td>\n",
       "      <td>NaN</td>\n",
       "    </tr>\n",
       "  </tbody>\n",
       "</table>\n",
       "</div>"
      ],
      "text/plain": [
       "   Aceptado Genero  ingresos   Activos  Unnamed: 4  Unnamed: 5\n",
       "0         0      H    612030   6984966         NaN         NaN\n",
       "1         0      M    740910   8750057         NaN         NaN\n",
       "2         0      H    613001  12635092         NaN         NaN\n",
       "3         0      H    620337   1832177         NaN         NaN\n",
       "4         0      M    714533   5419551         NaN         NaN"
      ]
     },
     "execution_count": 4,
     "metadata": {},
     "output_type": "execute_result"
    }
   ],
   "source": [
    "BD.head(5)"
   ]
  },
  {
   "cell_type": "code",
   "execution_count": 5,
   "id": "5a760414",
   "metadata": {},
   "outputs": [],
   "source": [
    "colquitar=[\"Unnamed: 4\",\"Unnamed: 5\"]\n",
    "BD.drop(colquitar, axis=1,inplace=True)"
   ]
  },
  {
   "cell_type": "code",
   "execution_count": 6,
   "id": "29701e86",
   "metadata": {},
   "outputs": [
    {
     "data": {
      "text/html": [
       "<div>\n",
       "<style scoped>\n",
       "    .dataframe tbody tr th:only-of-type {\n",
       "        vertical-align: middle;\n",
       "    }\n",
       "\n",
       "    .dataframe tbody tr th {\n",
       "        vertical-align: top;\n",
       "    }\n",
       "\n",
       "    .dataframe thead th {\n",
       "        text-align: right;\n",
       "    }\n",
       "</style>\n",
       "<table border=\"1\" class=\"dataframe\">\n",
       "  <thead>\n",
       "    <tr style=\"text-align: right;\">\n",
       "      <th></th>\n",
       "      <th>Aceptado</th>\n",
       "      <th>Genero</th>\n",
       "      <th>ingresos</th>\n",
       "      <th>Activos</th>\n",
       "    </tr>\n",
       "  </thead>\n",
       "  <tbody>\n",
       "    <tr>\n",
       "      <th>0</th>\n",
       "      <td>0</td>\n",
       "      <td>H</td>\n",
       "      <td>612030</td>\n",
       "      <td>6984966</td>\n",
       "    </tr>\n",
       "    <tr>\n",
       "      <th>1</th>\n",
       "      <td>0</td>\n",
       "      <td>M</td>\n",
       "      <td>740910</td>\n",
       "      <td>8750057</td>\n",
       "    </tr>\n",
       "    <tr>\n",
       "      <th>2</th>\n",
       "      <td>0</td>\n",
       "      <td>H</td>\n",
       "      <td>613001</td>\n",
       "      <td>12635092</td>\n",
       "    </tr>\n",
       "    <tr>\n",
       "      <th>3</th>\n",
       "      <td>0</td>\n",
       "      <td>H</td>\n",
       "      <td>620337</td>\n",
       "      <td>1832177</td>\n",
       "    </tr>\n",
       "    <tr>\n",
       "      <th>4</th>\n",
       "      <td>0</td>\n",
       "      <td>M</td>\n",
       "      <td>714533</td>\n",
       "      <td>5419551</td>\n",
       "    </tr>\n",
       "  </tbody>\n",
       "</table>\n",
       "</div>"
      ],
      "text/plain": [
       "   Aceptado Genero  ingresos   Activos\n",
       "0         0      H    612030   6984966\n",
       "1         0      M    740910   8750057\n",
       "2         0      H    613001  12635092\n",
       "3         0      H    620337   1832177\n",
       "4         0      M    714533   5419551"
      ]
     },
     "execution_count": 6,
     "metadata": {},
     "output_type": "execute_result"
    }
   ],
   "source": [
    "BD.head(5)"
   ]
  },
  {
   "cell_type": "code",
   "execution_count": 7,
   "id": "22aa4457",
   "metadata": {},
   "outputs": [
    {
     "data": {
      "text/plain": [
       "Aceptado    0\n",
       "Genero      0\n",
       "ingresos    0\n",
       "Activos     0\n",
       "dtype: int64"
      ]
     },
     "execution_count": 7,
     "metadata": {},
     "output_type": "execute_result"
    }
   ],
   "source": [
    "#Validar NA\n",
    "BD.isna().sum()"
   ]
  },
  {
   "cell_type": "code",
   "execution_count": 8,
   "id": "15a78ebd",
   "metadata": {},
   "outputs": [
    {
     "name": "stderr",
     "output_type": "stream",
     "text": [
      "C:\\Users\\USUARIO\\anaconda3\\lib\\site-packages\\seaborn\\_decorators.py:36: FutureWarning: Pass the following variable as a keyword arg: x. From version 0.12, the only valid positional argument will be `data`, and passing other arguments without an explicit keyword will result in an error or misinterpretation.\n",
      "  warnings.warn(\n"
     ]
    },
    {
     "data": {
      "text/plain": [
       "<AxesSubplot:xlabel='ingresos'>"
      ]
     },
     "execution_count": 8,
     "metadata": {},
     "output_type": "execute_result"
    },
    {
     "data": {
      "image/png": "[encoded data removed]",
      "text/plain": [
       "<Figure size 432x288 with 1 Axes>"
      ]
     },
     "metadata": {
      "needs_background": "light"
     },
     "output_type": "display_data"
    }
   ],
   "source": [
    "#Observar variables cuantitativas\n",
    "sns.boxplot(BD['ingresos'],palette=\"colorblind\")"
   ]
  },
  {
   "cell_type": "code",
   "execution_count": 9,
   "id": "9c1a1aa1",
   "metadata": {},
   "outputs": [
    {
     "name": "stderr",
     "output_type": "stream",
     "text": [
      "C:\\Users\\USUARIO\\anaconda3\\lib\\site-packages\\seaborn\\_decorators.py:36: FutureWarning: Pass the following variable as a keyword arg: x. From version 0.12, the only valid positional argument will be `data`, and passing other arguments without an explicit keyword will result in an error or misinterpretation.\n",
      "  warnings.warn(\n"
     ]
    },
    {
     "data": {
      "text/plain": [
       "<AxesSubplot:xlabel='Activos'>"
      ]
     },
     "execution_count": 9,
     "metadata": {},
     "output_type": "execute_result"
    },
    {
     "data": {
      "image/png": "[encoded data removed]",
      "text/plain": [
       "<Figure size 432x288 with 1 Axes>"
      ]
     },
     "metadata": {
      "needs_background": "light"
     },
     "output_type": "display_data"
    }
   ],
   "source": [
    "#se observa una cola pesada a la derecha\n",
    "sns.boxplot(BD['Activos'],palette=\"colorblind\")"
   ]
  },
  {
   "cell_type": "code",
   "execution_count": 10,
   "id": "8b919be6",
   "metadata": {},
   "outputs": [
    {
     "data": {
      "text/plain": [
       "['Genero']"
      ]
     },
     "execution_count": 10,
     "metadata": {},
     "output_type": "execute_result"
    }
   ],
   "source": [
    "#Variables Dummies\n",
    "coldummis=['Genero']\n",
    "coldummis"
   ]
  },
  {
   "cell_type": "code",
   "execution_count": 11,
   "id": "4ef96ad1",
   "metadata": {},
   "outputs": [
    {
     "data": {
      "text/html": [
       "<div>\n",
       "<style scoped>\n",
       "    .dataframe tbody tr th:only-of-type {\n",
       "        vertical-align: middle;\n",
       "    }\n",
       "\n",
       "    .dataframe tbody tr th {\n",
       "        vertical-align: top;\n",
       "    }\n",
       "\n",
       "    .dataframe thead th {\n",
       "        text-align: right;\n",
       "    }\n",
       "</style>\n",
       "<table border=\"1\" class=\"dataframe\">\n",
       "  <thead>\n",
       "    <tr style=\"text-align: right;\">\n",
       "      <th></th>\n",
       "      <th>Genero_H</th>\n",
       "      <th>Genero_M</th>\n",
       "    </tr>\n",
       "  </thead>\n",
       "  <tbody>\n",
       "    <tr>\n",
       "      <th>0</th>\n",
       "      <td>1</td>\n",
       "      <td>0</td>\n",
       "    </tr>\n",
       "    <tr>\n",
       "      <th>1</th>\n",
       "      <td>0</td>\n",
       "      <td>1</td>\n",
       "    </tr>\n",
       "    <tr>\n",
       "      <th>2</th>\n",
       "      <td>1</td>\n",
       "      <td>0</td>\n",
       "    </tr>\n",
       "    <tr>\n",
       "      <th>3</th>\n",
       "      <td>1</td>\n",
       "      <td>0</td>\n",
       "    </tr>\n",
       "    <tr>\n",
       "      <th>4</th>\n",
       "      <td>0</td>\n",
       "      <td>1</td>\n",
       "    </tr>\n",
       "    <tr>\n",
       "      <th>5</th>\n",
       "      <td>1</td>\n",
       "      <td>0</td>\n",
       "    </tr>\n",
       "    <tr>\n",
       "      <th>6</th>\n",
       "      <td>1</td>\n",
       "      <td>0</td>\n",
       "    </tr>\n",
       "    <tr>\n",
       "      <th>7</th>\n",
       "      <td>1</td>\n",
       "      <td>0</td>\n",
       "    </tr>\n",
       "    <tr>\n",
       "      <th>8</th>\n",
       "      <td>0</td>\n",
       "      <td>1</td>\n",
       "    </tr>\n",
       "    <tr>\n",
       "      <th>9</th>\n",
       "      <td>1</td>\n",
       "      <td>0</td>\n",
       "    </tr>\n",
       "  </tbody>\n",
       "</table>\n",
       "</div>"
      ],
      "text/plain": [
       "   Genero_H  Genero_M\n",
       "0         1         0\n",
       "1         0         1\n",
       "2         1         0\n",
       "3         1         0\n",
       "4         0         1\n",
       "5         1         0\n",
       "6         1         0\n",
       "7         1         0\n",
       "8         0         1\n",
       "9         1         0"
      ]
     },
     "execution_count": 11,
     "metadata": {},
     "output_type": "execute_result"
    }
   ],
   "source": [
    "BD1=pd.get_dummies(BD[coldummis])\n",
    "pd.DataFrame(BD1)\n",
    "BD1.head(10)"
   ]
  },
  {
   "cell_type": "code",
   "execution_count": 12,
   "id": "74a601b4",
   "metadata": {},
   "outputs": [
    {
     "data": {
      "text/html": [
       "<div>\n",
       "<style scoped>\n",
       "    .dataframe tbody tr th:only-of-type {\n",
       "        vertical-align: middle;\n",
       "    }\n",
       "\n",
       "    .dataframe tbody tr th {\n",
       "        vertical-align: top;\n",
       "    }\n",
       "\n",
       "    .dataframe thead th {\n",
       "        text-align: right;\n",
       "    }\n",
       "</style>\n",
       "<table border=\"1\" class=\"dataframe\">\n",
       "  <thead>\n",
       "    <tr style=\"text-align: right;\">\n",
       "      <th></th>\n",
       "      <th>Aceptado</th>\n",
       "      <th>ingresos</th>\n",
       "      <th>Activos</th>\n",
       "      <th>Genero_H</th>\n",
       "      <th>Genero_M</th>\n",
       "    </tr>\n",
       "  </thead>\n",
       "  <tbody>\n",
       "    <tr>\n",
       "      <th>0</th>\n",
       "      <td>0</td>\n",
       "      <td>612030</td>\n",
       "      <td>6984966</td>\n",
       "      <td>1</td>\n",
       "      <td>0</td>\n",
       "    </tr>\n",
       "    <tr>\n",
       "      <th>1</th>\n",
       "      <td>0</td>\n",
       "      <td>740910</td>\n",
       "      <td>8750057</td>\n",
       "      <td>0</td>\n",
       "      <td>1</td>\n",
       "    </tr>\n",
       "    <tr>\n",
       "      <th>2</th>\n",
       "      <td>0</td>\n",
       "      <td>613001</td>\n",
       "      <td>12635092</td>\n",
       "      <td>1</td>\n",
       "      <td>0</td>\n",
       "    </tr>\n",
       "    <tr>\n",
       "      <th>3</th>\n",
       "      <td>0</td>\n",
       "      <td>620337</td>\n",
       "      <td>1832177</td>\n",
       "      <td>1</td>\n",
       "      <td>0</td>\n",
       "    </tr>\n",
       "    <tr>\n",
       "      <th>4</th>\n",
       "      <td>0</td>\n",
       "      <td>714533</td>\n",
       "      <td>5419551</td>\n",
       "      <td>0</td>\n",
       "      <td>1</td>\n",
       "    </tr>\n",
       "    <tr>\n",
       "      <th>5</th>\n",
       "      <td>0</td>\n",
       "      <td>629576</td>\n",
       "      <td>8409569</td>\n",
       "      <td>1</td>\n",
       "      <td>0</td>\n",
       "    </tr>\n",
       "    <tr>\n",
       "      <th>6</th>\n",
       "      <td>0</td>\n",
       "      <td>664875</td>\n",
       "      <td>16872728</td>\n",
       "      <td>1</td>\n",
       "      <td>0</td>\n",
       "    </tr>\n",
       "    <tr>\n",
       "      <th>7</th>\n",
       "      <td>0</td>\n",
       "      <td>665566</td>\n",
       "      <td>2715937</td>\n",
       "      <td>1</td>\n",
       "      <td>0</td>\n",
       "    </tr>\n",
       "    <tr>\n",
       "      <th>8</th>\n",
       "      <td>0</td>\n",
       "      <td>670999</td>\n",
       "      <td>6508021</td>\n",
       "      <td>0</td>\n",
       "      <td>1</td>\n",
       "    </tr>\n",
       "    <tr>\n",
       "      <th>9</th>\n",
       "      <td>0</td>\n",
       "      <td>671211</td>\n",
       "      <td>17226716</td>\n",
       "      <td>1</td>\n",
       "      <td>0</td>\n",
       "    </tr>\n",
       "  </tbody>\n",
       "</table>\n",
       "</div>"
      ],
      "text/plain": [
       "   Aceptado  ingresos   Activos  Genero_H  Genero_M\n",
       "0         0    612030   6984966         1         0\n",
       "1         0    740910   8750057         0         1\n",
       "2         0    613001  12635092         1         0\n",
       "3         0    620337   1832177         1         0\n",
       "4         0    714533   5419551         0         1\n",
       "5         0    629576   8409569         1         0\n",
       "6         0    664875  16872728         1         0\n",
       "7         0    665566   2715937         1         0\n",
       "8         0    670999   6508021         0         1\n",
       "9         0    671211  17226716         1         0"
      ]
     },
     "execution_count": 12,
     "metadata": {},
     "output_type": "execute_result"
    }
   ],
   "source": [
    "BD.drop(coldummis,axis=1, inplace=True)\n",
    "df= pd.concat([BD,BD1], axis=1)\n",
    "df.head(10)"
   ]
  },
  {
   "cell_type": "code",
   "execution_count": 13,
   "id": "9de60b1b",
   "metadata": {},
   "outputs": [],
   "source": [
    "df.to_excel(\"Base_Dummy.xlsx\") "
   ]
  },
  {
   "cell_type": "code",
   "execution_count": 14,
   "id": "e35619b9",
   "metadata": {},
   "outputs": [
    {
     "data": {
      "text/html": [
       "<div>\n",
       "<style scoped>\n",
       "    .dataframe tbody tr th:only-of-type {\n",
       "        vertical-align: middle;\n",
       "    }\n",
       "\n",
       "    .dataframe tbody tr th {\n",
       "        vertical-align: top;\n",
       "    }\n",
       "\n",
       "    .dataframe thead th {\n",
       "        text-align: right;\n",
       "    }\n",
       "</style>\n",
       "<table border=\"1\" class=\"dataframe\">\n",
       "  <thead>\n",
       "    <tr style=\"text-align: right;\">\n",
       "      <th></th>\n",
       "      <th>Aceptado</th>\n",
       "      <th>ingresos</th>\n",
       "      <th>Activos</th>\n",
       "      <th>Genero_H</th>\n",
       "      <th>Genero_M</th>\n",
       "    </tr>\n",
       "  </thead>\n",
       "  <tbody>\n",
       "    <tr>\n",
       "      <th>0</th>\n",
       "      <td>0.0</td>\n",
       "      <td>0.000000</td>\n",
       "      <td>0.317836</td>\n",
       "      <td>1.0</td>\n",
       "      <td>0.0</td>\n",
       "    </tr>\n",
       "    <tr>\n",
       "      <th>1</th>\n",
       "      <td>0.0</td>\n",
       "      <td>0.029424</td>\n",
       "      <td>0.411673</td>\n",
       "      <td>0.0</td>\n",
       "      <td>1.0</td>\n",
       "    </tr>\n",
       "    <tr>\n",
       "      <th>2</th>\n",
       "      <td>0.0</td>\n",
       "      <td>0.000222</td>\n",
       "      <td>0.618213</td>\n",
       "      <td>1.0</td>\n",
       "      <td>0.0</td>\n",
       "    </tr>\n",
       "    <tr>\n",
       "      <th>3</th>\n",
       "      <td>0.0</td>\n",
       "      <td>0.001897</td>\n",
       "      <td>0.043899</td>\n",
       "      <td>1.0</td>\n",
       "      <td>0.0</td>\n",
       "    </tr>\n",
       "    <tr>\n",
       "      <th>4</th>\n",
       "      <td>0.0</td>\n",
       "      <td>0.023402</td>\n",
       "      <td>0.234614</td>\n",
       "      <td>0.0</td>\n",
       "      <td>1.0</td>\n",
       "    </tr>\n",
       "    <tr>\n",
       "      <th>5</th>\n",
       "      <td>0.0</td>\n",
       "      <td>0.004006</td>\n",
       "      <td>0.393572</td>\n",
       "      <td>1.0</td>\n",
       "      <td>0.0</td>\n",
       "    </tr>\n",
       "    <tr>\n",
       "      <th>6</th>\n",
       "      <td>0.0</td>\n",
       "      <td>0.012065</td>\n",
       "      <td>0.843497</td>\n",
       "      <td>1.0</td>\n",
       "      <td>0.0</td>\n",
       "    </tr>\n",
       "    <tr>\n",
       "      <th>7</th>\n",
       "      <td>0.0</td>\n",
       "      <td>0.012223</td>\n",
       "      <td>0.090883</td>\n",
       "      <td>1.0</td>\n",
       "      <td>0.0</td>\n",
       "    </tr>\n",
       "    <tr>\n",
       "      <th>8</th>\n",
       "      <td>0.0</td>\n",
       "      <td>0.013463</td>\n",
       "      <td>0.292480</td>\n",
       "      <td>0.0</td>\n",
       "      <td>1.0</td>\n",
       "    </tr>\n",
       "    <tr>\n",
       "      <th>9</th>\n",
       "      <td>0.0</td>\n",
       "      <td>0.013511</td>\n",
       "      <td>0.862316</td>\n",
       "      <td>1.0</td>\n",
       "      <td>0.0</td>\n",
       "    </tr>\n",
       "  </tbody>\n",
       "</table>\n",
       "</div>"
      ],
      "text/plain": [
       "   Aceptado  ingresos   Activos  Genero_H  Genero_M\n",
       "0       0.0  0.000000  0.317836       1.0       0.0\n",
       "1       0.0  0.029424  0.411673       0.0       1.0\n",
       "2       0.0  0.000222  0.618213       1.0       0.0\n",
       "3       0.0  0.001897  0.043899       1.0       0.0\n",
       "4       0.0  0.023402  0.234614       0.0       1.0\n",
       "5       0.0  0.004006  0.393572       1.0       0.0\n",
       "6       0.0  0.012065  0.843497       1.0       0.0\n",
       "7       0.0  0.012223  0.090883       1.0       0.0\n",
       "8       0.0  0.013463  0.292480       0.0       1.0\n",
       "9       0.0  0.013511  0.862316       1.0       0.0"
      ]
     },
     "execution_count": 14,
     "metadata": {},
     "output_type": "execute_result"
    }
   ],
   "source": [
    "names= df.columns\n",
    "min_max_scaler = preprocessing.MinMaxScaler()\n",
    "BD_scaled = min_max_scaler.fit_transform(df)\n",
    "df = pd.DataFrame(BD_scaled)\n",
    "df.columns= names\n",
    "df.head(10)"
   ]
  },
  {
   "cell_type": "code",
   "execution_count": 15,
   "id": "84254052",
   "metadata": {},
   "outputs": [],
   "source": [
    "df.to_excel(\"Base_MinMax.xlsx\") "
   ]
  },
  {
   "cell_type": "code",
   "execution_count": 16,
   "id": "e2a71c5b",
   "metadata": {},
   "outputs": [
    {
     "name": "stderr",
     "output_type": "stream",
     "text": [
      "C:\\Users\\USUARIO\\anaconda3\\lib\\site-packages\\seaborn\\_decorators.py:36: FutureWarning: Pass the following variable as a keyword arg: x. From version 0.12, the only valid positional argument will be `data`, and passing other arguments without an explicit keyword will result in an error or misinterpretation.\n",
      "  warnings.warn(\n"
     ]
    },
    {
     "data": {
      "text/plain": [
       "<AxesSubplot:xlabel='Activos'>"
      ]
     },
     "execution_count": 16,
     "metadata": {},
     "output_type": "execute_result"
    },
    {
     "data": {
      "image/png": "[encoded data removed]",
      "text/plain": [
       "<Figure size 432x288 with 1 Axes>"
      ]
     },
     "metadata": {
      "needs_background": "light"
     },
     "output_type": "display_data"
    }
   ],
   "source": [
    "#Misma distribución pero en una escala más entendible \n",
    "sns.boxplot(df['Activos'],palette=\"colorblind\")"
   ]
  },
  {
   "cell_type": "code",
   "execution_count": 17,
   "id": "2c0e40fa",
   "metadata": {},
   "outputs": [
    {
     "name": "stderr",
     "output_type": "stream",
     "text": [
      "C:\\Users\\USUARIO\\anaconda3\\lib\\site-packages\\seaborn\\_decorators.py:36: FutureWarning: Pass the following variable as a keyword arg: x. From version 0.12, the only valid positional argument will be `data`, and passing other arguments without an explicit keyword will result in an error or misinterpretation.\n",
      "  warnings.warn(\n"
     ]
    },
    {
     "data": {
      "text/plain": [
       "<AxesSubplot:xlabel='ingresos'>"
      ]
     },
     "execution_count": 17,
     "metadata": {},
     "output_type": "execute_result"
    },
    {
     "data": {
      "image/png": "[encoded data removed]",
      "text/plain": [
       "<Figure size 432x288 with 1 Axes>"
      ]
     },
     "metadata": {
      "needs_background": "light"
     },
     "output_type": "display_data"
    }
   ],
   "source": [
    "#Misma distribución pero en una escala más entendible \n",
    "sns.boxplot(df['ingresos'],palette=\"colorblind\")"
   ]
  },
  {
   "cell_type": "code",
   "execution_count": 18,
   "id": "e567b697",
   "metadata": {},
   "outputs": [
    {
     "name": "stderr",
     "output_type": "stream",
     "text": [
      "C:\\Users\\USUARIO\\anaconda3\\lib\\site-packages\\seaborn\\distributions.py:2557: FutureWarning: `distplot` is a deprecated function and will be removed in a future version. Please adapt your code to use either `displot` (a figure-level function with similar flexibility) or `histplot` (an axes-level function for histograms).\n",
      "  warnings.warn(msg, FutureWarning)\n"
     ]
    },
    {
     "data": {
      "text/plain": [
       "<AxesSubplot:xlabel='ingresos', ylabel='Density'>"
      ]
     },
     "execution_count": 18,
     "metadata": {},
     "output_type": "execute_result"
    },
    {
     "data": {
      "image/png": "[encoded data removed]",
      "text/plain": [
       "<Figure size 432x288 with 1 Axes>"
      ]
     },
     "metadata": {
      "needs_background": "light"
     },
     "output_type": "display_data"
    }
   ],
   "source": [
    "sns.distplot(df['ingresos'], hist=True, kde=True, \n",
    "             bins=int(180/5), color = 'darkblue', \n",
    "             hist_kws={'edgecolor':'black'},\n",
    "             kde_kws={'linewidth': 4})"
   ]
  },
  {
   "cell_type": "code",
   "execution_count": 19,
   "id": "55756c36",
   "metadata": {},
   "outputs": [
    {
     "name": "stderr",
     "output_type": "stream",
     "text": [
      "C:\\Users\\USUARIO\\anaconda3\\lib\\site-packages\\seaborn\\distributions.py:2557: FutureWarning: `distplot` is a deprecated function and will be removed in a future version. Please adapt your code to use either `displot` (a figure-level function with similar flexibility) or `histplot` (an axes-level function for histograms).\n",
      "  warnings.warn(msg, FutureWarning)\n"
     ]
    },
    {
     "data": {
      "text/plain": [
       "<AxesSubplot:xlabel='Activos', ylabel='Density'>"
      ]
     },
     "execution_count": 19,
     "metadata": {},
     "output_type": "execute_result"
    },
    {
     "data": {
      "image/png": "[encoded data removed]",
      "text/plain": [
       "<Figure size 432x288 with 1 Axes>"
      ]
     },
     "metadata": {
      "needs_background": "light"
     },
     "output_type": "display_data"
    }
   ],
   "source": [
    "sns.distplot(df['Activos'], hist=True, kde=True, \n",
    "             bins=int(180/5), color = 'darkblue', \n",
    "             hist_kws={'edgecolor':'black'},\n",
    "             kde_kws={'linewidth': 4})"
   ]
  },
  {
   "cell_type": "code",
   "execution_count": 20,
   "id": "17494a28",
   "metadata": {},
   "outputs": [
    {
     "data": {
      "image/png": "[encoded data removed]",
      "text/plain": [
       "<Figure size 432x288 with 1 Axes>"
      ]
     },
     "metadata": {},
     "output_type": "display_data"
    }
   ],
   "source": [
    "#pie\n",
    "colors = sns.color_palette('pastel')[0:2]\n",
    "Datos = [sum(df['Aceptado']==1),sum(df['Aceptado']==0)]\n",
    "nombres = [\"Aprobado\",\"Rechazado\"]\n",
    "plt.pie(Datos, labels = nombres, colors = colors, autopct='%.01f%%')\n",
    "plt.axis(\"equal\")\n",
    "plt.show()"
   ]
  },
  {
   "cell_type": "code",
   "execution_count": 21,
   "id": "3c6517b4",
   "metadata": {},
   "outputs": [
    {
     "data": {
      "text/html": [
       "<div>\n",
       "<style scoped>\n",
       "    .dataframe tbody tr th:only-of-type {\n",
       "        vertical-align: middle;\n",
       "    }\n",
       "\n",
       "    .dataframe tbody tr th {\n",
       "        vertical-align: top;\n",
       "    }\n",
       "\n",
       "    .dataframe thead th {\n",
       "        text-align: right;\n",
       "    }\n",
       "</style>\n",
       "<table border=\"1\" class=\"dataframe\">\n",
       "  <thead>\n",
       "    <tr style=\"text-align: right;\">\n",
       "      <th></th>\n",
       "      <th>Aceptado</th>\n",
       "      <th>ingresos</th>\n",
       "      <th>Activos</th>\n",
       "      <th>Genero_H</th>\n",
       "      <th>Genero_M</th>\n",
       "    </tr>\n",
       "  </thead>\n",
       "  <tbody>\n",
       "    <tr>\n",
       "      <th>0</th>\n",
       "      <td>0.0</td>\n",
       "      <td>0.000000</td>\n",
       "      <td>0.317836</td>\n",
       "      <td>1.0</td>\n",
       "      <td>0.0</td>\n",
       "    </tr>\n",
       "    <tr>\n",
       "      <th>2</th>\n",
       "      <td>0.0</td>\n",
       "      <td>0.000222</td>\n",
       "      <td>0.618213</td>\n",
       "      <td>1.0</td>\n",
       "      <td>0.0</td>\n",
       "    </tr>\n",
       "    <tr>\n",
       "      <th>3</th>\n",
       "      <td>0.0</td>\n",
       "      <td>0.001897</td>\n",
       "      <td>0.043899</td>\n",
       "      <td>1.0</td>\n",
       "      <td>0.0</td>\n",
       "    </tr>\n",
       "    <tr>\n",
       "      <th>5</th>\n",
       "      <td>0.0</td>\n",
       "      <td>0.004006</td>\n",
       "      <td>0.393572</td>\n",
       "      <td>1.0</td>\n",
       "      <td>0.0</td>\n",
       "    </tr>\n",
       "    <tr>\n",
       "      <th>6</th>\n",
       "      <td>0.0</td>\n",
       "      <td>0.012065</td>\n",
       "      <td>0.843497</td>\n",
       "      <td>1.0</td>\n",
       "      <td>0.0</td>\n",
       "    </tr>\n",
       "  </tbody>\n",
       "</table>\n",
       "</div>"
      ],
      "text/plain": [
       "   Aceptado  ingresos   Activos  Genero_H  Genero_M\n",
       "0       0.0  0.000000  0.317836       1.0       0.0\n",
       "2       0.0  0.000222  0.618213       1.0       0.0\n",
       "3       0.0  0.001897  0.043899       1.0       0.0\n",
       "5       0.0  0.004006  0.393572       1.0       0.0\n",
       "6       0.0  0.012065  0.843497       1.0       0.0"
      ]
     },
     "execution_count": 21,
     "metadata": {},
     "output_type": "execute_result"
    }
   ],
   "source": [
    "Datos_h=df[df[\"Genero_H\"]>0]\n",
    "Datos_h.head()"
   ]
  },
  {
   "cell_type": "code",
   "execution_count": 22,
   "id": "ba40b2bc",
   "metadata": {},
   "outputs": [
    {
     "data": {
      "image/png": "[encoded data removed]",
      "text/plain": [
       "<Figure size 432x288 with 1 Axes>"
      ]
     },
     "metadata": {},
     "output_type": "display_data"
    }
   ],
   "source": [
    "Datos = [sum(Datos_h['Aceptado']==1),sum(Datos_h['Aceptado']==0)]\n",
    "nombres = [\"Aprobado\",\"Rechazado\"]\n",
    "plt.pie(Datos, labels=nombres, autopct=\"%0.1f %%\",colors = colors)\n",
    "plt.axis(\"equal\")\n",
    "plt.show()"
   ]
  },
  {
   "cell_type": "code",
   "execution_count": 23,
   "id": "eb7dd43f",
   "metadata": {},
   "outputs": [
    {
     "data": {
      "text/html": [
       "<div>\n",
       "<style scoped>\n",
       "    .dataframe tbody tr th:only-of-type {\n",
       "        vertical-align: middle;\n",
       "    }\n",
       "\n",
       "    .dataframe tbody tr th {\n",
       "        vertical-align: top;\n",
       "    }\n",
       "\n",
       "    .dataframe thead th {\n",
       "        text-align: right;\n",
       "    }\n",
       "</style>\n",
       "<table border=\"1\" class=\"dataframe\">\n",
       "  <thead>\n",
       "    <tr style=\"text-align: right;\">\n",
       "      <th></th>\n",
       "      <th>Aceptado</th>\n",
       "      <th>ingresos</th>\n",
       "      <th>Activos</th>\n",
       "      <th>Genero_H</th>\n",
       "      <th>Genero_M</th>\n",
       "    </tr>\n",
       "  </thead>\n",
       "  <tbody>\n",
       "    <tr>\n",
       "      <th>1</th>\n",
       "      <td>0.0</td>\n",
       "      <td>0.029424</td>\n",
       "      <td>0.411673</td>\n",
       "      <td>0.0</td>\n",
       "      <td>1.0</td>\n",
       "    </tr>\n",
       "    <tr>\n",
       "      <th>4</th>\n",
       "      <td>0.0</td>\n",
       "      <td>0.023402</td>\n",
       "      <td>0.234614</td>\n",
       "      <td>0.0</td>\n",
       "      <td>1.0</td>\n",
       "    </tr>\n",
       "    <tr>\n",
       "      <th>8</th>\n",
       "      <td>0.0</td>\n",
       "      <td>0.013463</td>\n",
       "      <td>0.292480</td>\n",
       "      <td>0.0</td>\n",
       "      <td>1.0</td>\n",
       "    </tr>\n",
       "    <tr>\n",
       "      <th>20</th>\n",
       "      <td>0.0</td>\n",
       "      <td>0.036113</td>\n",
       "      <td>0.374368</td>\n",
       "      <td>0.0</td>\n",
       "      <td>1.0</td>\n",
       "    </tr>\n",
       "    <tr>\n",
       "      <th>21</th>\n",
       "      <td>0.0</td>\n",
       "      <td>0.037009</td>\n",
       "      <td>0.032852</td>\n",
       "      <td>0.0</td>\n",
       "      <td>1.0</td>\n",
       "    </tr>\n",
       "  </tbody>\n",
       "</table>\n",
       "</div>"
      ],
      "text/plain": [
       "    Aceptado  ingresos   Activos  Genero_H  Genero_M\n",
       "1        0.0  0.029424  0.411673       0.0       1.0\n",
       "4        0.0  0.023402  0.234614       0.0       1.0\n",
       "8        0.0  0.013463  0.292480       0.0       1.0\n",
       "20       0.0  0.036113  0.374368       0.0       1.0\n",
       "21       0.0  0.037009  0.032852       0.0       1.0"
      ]
     },
     "execution_count": 23,
     "metadata": {},
     "output_type": "execute_result"
    }
   ],
   "source": [
    "Datos_m=df[df[\"Genero_M\"]>0]\n",
    "Datos_m.head()"
   ]
  },
  {
   "cell_type": "code",
   "execution_count": 24,
   "id": "e8534c84",
   "metadata": {},
   "outputs": [
    {
     "data": {
      "image/png": "[encoded data removed]",
      "text/plain": [
       "<Figure size 432x288 with 1 Axes>"
      ]
     },
     "metadata": {},
     "output_type": "display_data"
    }
   ],
   "source": [
    "Datos = [sum(Datos_m['Aceptado']==1),sum(Datos_m['Aceptado']==0)]\n",
    "nombres = [\"Aprobado\",\"Rechazado\"]\n",
    "plt.pie(Datos, labels=nombres, autopct=\"%0.1f %%\", colors = colors)\n",
    "plt.axis(\"equal\")\n",
    "plt.show()"
   ]
  },
  {
   "cell_type": "code",
   "execution_count": 25,
   "id": "ccce789f",
   "metadata": {},
   "outputs": [],
   "source": [
    "# Semilla para obtener los mismos datos\n",
    "random.seed(10)"
   ]
  },
  {
   "cell_type": "code",
   "execution_count": 26,
   "id": "7cc540da",
   "metadata": {},
   "outputs": [],
   "source": [
    "#Cargar modelos\n",
    "X_train, X_test, y_train, y_test = train_test_split(df.drop(['Aceptado'], axis=1), df.Aceptado, random_state=42,  test_size=0.3)"
   ]
  },
  {
   "cell_type": "code",
   "execution_count": 109,
   "id": "dd3e8c28",
   "metadata": {},
   "outputs": [
    {
     "name": "stdout",
     "output_type": "stream",
     "text": [
      "Fitting 10 folds for each of 19 candidates, totalling 190 fits\n"
     ]
    }
   ],
   "source": [
    "#Ajustando KNN\n",
    "KNN = KNeighborsClassifier()\n",
    "Num_Vecinos = list(range(1, 20))\n",
    "param_grid = dict(n_neighbors=Num_Vecinos)\n",
    "\n",
    "# Se define los parametros \n",
    "grid = GridSearchCV(KNN, param_grid, cv=10, scoring='accuracy', return_train_score=False,verbose=1)\n",
    "\n",
    "# Se entrena el modelo\n",
    "grid_search=grid.fit(X_train, y_train)"
   ]
  },
  {
   "cell_type": "code",
   "execution_count": 110,
   "id": "28f92fa1",
   "metadata": {},
   "outputs": [
    {
     "name": "stdout",
     "output_type": "stream",
     "text": [
      "{'n_neighbors': 1}\n",
      "Accuracy de mejor número de vecinos : 96.58%\n"
     ]
    }
   ],
   "source": [
    "# Mejores hiperparámetros\n",
    "print(grid_search.best_params_)\n",
    "accuracy = grid_search.best_score_ *100\n",
    "print(\"Accuracy de mejor número de vecinos : {:.2f}%\".format(accuracy) )"
   ]
  },
  {
   "cell_type": "code",
   "execution_count": 410,
   "id": "36b18627",
   "metadata": {},
   "outputs": [
    {
     "data": {
      "text/plain": [
       "KNeighborsClassifier(n_neighbors=1)"
      ]
     },
     "execution_count": 410,
     "metadata": {},
     "output_type": "execute_result"
    }
   ],
   "source": [
    "KNN = KNeighborsClassifier(n_neighbors=1)\n",
    "KNN.fit(X_train, y_train)"
   ]
  },
  {
   "cell_type": "code",
   "execution_count": 411,
   "id": "03164a17",
   "metadata": {},
   "outputs": [
    {
     "name": "stdout",
     "output_type": "stream",
     "text": [
      "r2 para KNN en train 1.0000\n",
      "r2 para KNN  en test 0.8592\n",
      "f1 para KNN en train 1.0000\n",
      "f1 para KNN  en test 0.9680\n",
      "Accuracy para KNN en train 1.0000\n",
      "Accuracy para KNN  en test 0.9652\n"
     ]
    }
   ],
   "source": [
    "#se observa un buen ajuste del modelo\n",
    "y_train_pred_ej = KNN.predict(X_train)\n",
    "y_test_pred_ej = KNN.predict(X_test)\n",
    "\n",
    "r2_train_ej = r2_score(y_true=y_train, y_pred= y_train_pred_ej)\n",
    "r2_test_ej = r2_score(y_true=y_test, y_pred= y_test_pred_ej)\n",
    "print('r2 para KNN en train {:.4f}'.format(r2_train_ej))\n",
    "print('r2 para KNN  en test {:.4f}'.format(r2_test_ej))\n",
    "\n",
    "\n",
    "f1_train_ej = f1_score(y_true=y_train, y_pred= y_train_pred_ej)\n",
    "f1_test_ej = f1_score(y_true=y_test, y_pred= y_test_pred_ej)\n",
    "print('f1 para KNN en train {:.4f}'.format(f1_train_ej))\n",
    "print('f1 para KNN  en test {:.4f}'.format(f1_test_ej))\n",
    "\n",
    "Ac_train_ej = accuracy_score(y_true=y_train, y_pred= y_train_pred_ej)\n",
    "Ac_test_ej = accuracy_score(y_true=y_test, y_pred= y_test_pred_ej)\n",
    "print('Accuracy para KNN en train {:.4f}'.format(Ac_train_ej))\n",
    "print('Accuracy para KNN  en test {:.4f}'.format(Ac_test_ej))\n",
    "\n"
   ]
  },
  {
   "cell_type": "code",
   "execution_count": 130,
   "id": "143d3e57",
   "metadata": {},
   "outputs": [],
   "source": [
    "#Ajustando Árbol de clasificación \n",
    "AC= DecisionTreeClassifier()\n",
    "tree_para = {'criterion':['gini','entropy'],'max_depth':list(range(1, 100))}\n",
    "Arbol= GridSearchCV(AC, tree_para, cv=10, scoring='accuracy')\n",
    "\n",
    "# Se entrena el modelo\n",
    "grid_search=Arbol.fit(X_train, y_train)"
   ]
  },
  {
   "cell_type": "code",
   "execution_count": 131,
   "id": "2e405c38",
   "metadata": {},
   "outputs": [
    {
     "name": "stdout",
     "output_type": "stream",
     "text": [
      "{'criterion': 'gini', 'max_depth': 4}\n",
      "Accuracy mejores parámetros : 99.79%\n"
     ]
    }
   ],
   "source": [
    "# Mejores hiperparámetros\n",
    "print(grid_search.best_params_)\n",
    "accuracy = grid_search.best_score_ *100\n",
    "print(\"Accuracy mejores parámetros : {:.2f}%\".format(accuracy) )"
   ]
  },
  {
   "cell_type": "code",
   "execution_count": 412,
   "id": "2d53c8cb",
   "metadata": {},
   "outputs": [],
   "source": [
    "AC= DecisionTreeClassifier(criterion=\"gini\", max_depth=4)"
   ]
  },
  {
   "cell_type": "code",
   "execution_count": 413,
   "id": "80947356",
   "metadata": {},
   "outputs": [
    {
     "data": {
      "text/plain": [
       "DecisionTreeClassifier(max_depth=4)"
      ]
     },
     "execution_count": 413,
     "metadata": {},
     "output_type": "execute_result"
    }
   ],
   "source": [
    "AC.fit(X_train, y_train)"
   ]
  },
  {
   "cell_type": "code",
   "execution_count": 414,
   "id": "9c6d40a3",
   "metadata": {},
   "outputs": [
    {
     "name": "stdout",
     "output_type": "stream",
     "text": [
      "r2 para Árboles de Clasificación en train 1.0000\n",
      "r2 para Árboles de Clasificación  en test 0.9799\n",
      "f1 para Árboles de Clasificación en train 1.0000\n",
      "f1 para Árboles de Clasificación  en test 0.9955\n",
      "Accuracy para Árboles de Clasificación en train 1.0000\n",
      "Accuracy para Árboles de Clasificación en test 1.0000\n"
     ]
    }
   ],
   "source": [
    "#Beun ajuste.\n",
    "y_train_pred_ej_2 = AC.predict(X_train)\n",
    "y_test_pred_ej_2 = AC.predict(X_test)\n",
    "\n",
    "r2_train_ej_2 = r2_score(y_true=y_train, y_pred= y_train_pred_ej_2)\n",
    "r2_test_ej_2 = r2_score(y_true=y_test, y_pred= y_test_pred_ej_2)\n",
    "\n",
    "print('r2 para Árboles de Clasificación en train {:.4f}'.format(r2_train_ej_2))\n",
    "print('r2 para Árboles de Clasificación  en test {:.4f}'.format(r2_test_ej_2))\n",
    "\n",
    "f1_train_ej_2 = f1_score(y_true=y_train, y_pred= y_train_pred_ej_2)\n",
    "f1_test_ej_2 = f1_score(y_true=y_test, y_pred= y_test_pred_ej_2)\n",
    "print('f1 para Árboles de Clasificación en train {:.4f}'.format(f1_train_ej_2))\n",
    "print('f1 para Árboles de Clasificación  en test {:.4f}'.format(f1_test_ej_2))\n",
    "\n",
    "Ac_train_ej_2 = accuracy_score(y_true=y_train, y_pred= y_train_pred_ej_2)\n",
    "Ac_test_ej_2 = accuracy_score(y_true=y_test, y_pred= y_test_pred_ej_2)\n",
    "print('Accuracy para Árboles de Clasificación en train {:.4f}'.format(Ac_train_ej_2))\n",
    "print('Accuracy para Árboles de Clasificación en test {:.4f}'.format(Ac_train_ej_2))\n",
    "\n",
    "\n"
   ]
  },
  {
   "cell_type": "code",
   "execution_count": 198,
   "id": "9d2047e2",
   "metadata": {},
   "outputs": [
    {
     "name": "stdout",
     "output_type": "stream",
     "text": [
      "{'C': 1000, 'degree': 5, 'gamma': 1, 'kernel': 'poly'}\n",
      "Accuracy mejores parámetros : 98.94%\n"
     ]
    }
   ],
   "source": [
    "#SVM\n",
    "#Dado que el resultado obtenido es un polinomio de grado 4, y considerando la base de datos propuesta, \n",
    "#se considera realizar el gridsearch de otra forma\n",
    "\n",
    "param_grid = { 'C':[0.1,1,100,1000],'kernel':['rbf','poly','sigmoid','linear'],\n",
    "              'degree':[1,2,3,4,5,6],'gamma': [1, 0.1, 0.01, 0.001, 0.0001]}\n",
    "\n",
    "grid = GridSearchCV(SVC(),param_grid, cv=10, scoring='accuracy')\n",
    "grid.fit(X_train,y_train)\n",
    "\n",
    "print(grid.best_params_)\n",
    "accuracy = grid_search.best_score_ *100\n",
    "print(\"Accuracy mejores parámetros : {:.2f}%\".format(accuracy) )"
   ]
  },
  {
   "cell_type": "code",
   "execution_count": 208,
   "id": "edb37091",
   "metadata": {},
   "outputs": [
    {
     "name": "stdout",
     "output_type": "stream",
     "text": [
      "r2 para SVM en train 0.9565\n",
      "r2 para SVM   en test 0.9396\n",
      "f1 para SVM  en train 0.9906\n",
      "f1 para SVM   en test 0.9863\n",
      "Accuracy para SVM  en train 0.9893\n",
      "Accuracy para SVM en test 0.9893\n"
     ]
    }
   ],
   "source": [
    "#Se observa su ajuste\n",
    "SVC_model=SVC(kernel='poly', C=1000, gamma=1, degree=5)\n",
    "SVC_model.fit(X_train, y_train)\n",
    "y_train_pred_ej_3 = SVC_model.predict(X_train)\n",
    "y_test_pred_ej_3 = SVC_model.predict(X_test)\n",
    "\n",
    "r2_train_ej_3 = r2_score(y_true=y_train, y_pred= y_train_pred_ej_3)\n",
    "r2_test_ej_3 = r2_score(y_true=y_test, y_pred= y_test_pred_ej_3)\n",
    "\n",
    "print('r2 para SVM en train {:.4f}'.format(r2_train_ej_3))\n",
    "print('r2 para SVM   en test {:.4f}'.format(r2_test_ej_3))\n",
    "\n",
    "f1_train_ej_3 = f1_score(y_true=y_train, y_pred= y_train_pred_ej_3)\n",
    "f1_test_ej_3 = f1_score(y_true=y_test, y_pred= y_test_pred_ej_3)\n",
    "print('f1 para SVM  en train {:.4f}'.format(f1_train_ej_3))\n",
    "print('f1 para SVM   en test {:.4f}'.format(f1_test_ej_3))\n",
    "\n",
    "Ac_train_ej_3 = accuracy_score(y_true=y_train, y_pred= y_train_pred_ej_3)\n",
    "Ac_test_ej_3 = accuracy_score(y_true=y_test, y_pred= y_test_pred_ej_3)\n",
    "print('Accuracy para SVM  en train {:.4f}'.format(Ac_train_ej_3))\n",
    "print('Accuracy para SVM en test {:.4f}'.format(Ac_train_ej_3))"
   ]
  },
  {
   "cell_type": "code",
   "execution_count": 191,
   "id": "2a4ae4d2",
   "metadata": {},
   "outputs": [],
   "source": [
    "#kernels\n",
    "from sklearn.svm import SVC  \n",
    "#Primero los kernels\n",
    "kernels = ['Polinomio', 'RBF', 'Sigmoide','Lineal']\n",
    "def Definir_kernel(tipo):\n",
    "    if tipo == 0:\n",
    "        # Polinomio\n",
    "        return SVC(kernel='poly', degree=5, gamma=1, C=1000)\n",
    "    elif tipo == 1:\n",
    "        # función de base radial\n",
    "        return SVC(kernel='rbf', gamma=1, C=1000)\n",
    "    elif tipo == 2:\n",
    "        # Sigmoide\n",
    "        return SVC(kernel='sigmoid',gamma=1, C=1000)\n",
    "    elif tipo == 3:\n",
    "        # Lineal\n",
    "        return SVC(kernel='linear', gamma=1, C=1000)"
   ]
  },
  {
   "cell_type": "code",
   "execution_count": 192,
   "id": "3c1caefd",
   "metadata": {},
   "outputs": [
    {
     "name": "stdout",
     "output_type": "stream",
     "text": [
      "Evaluación del kernel : Polinomio\n",
      "Accuracy para SVM en test 0.9851\n",
      "Evaluación del kernel : RBF\n",
      "Accuracy para SVM en test 0.9851\n",
      "Evaluación del kernel : Sigmoide\n",
      "Accuracy para SVM en test 0.7065\n",
      "Evaluación del kernel : Lineal\n",
      "Accuracy para SVM en test 0.8905\n"
     ]
    }
   ],
   "source": [
    "#Evaluar diferentes kernels en test\n",
    "for i in range(4):\n",
    "    svclassifier = Definir_kernel(i) \n",
    "    svclassifier.fit(X_train, y_train)\n",
    "    y_pred = svclassifier.predict(X_test)\n",
    "    print(\"Evaluación del kernel :\",kernels[i])\n",
    "    sv_mod = accuracy_score(y_true=y_test, y_pred= y_pred)\n",
    "    print('Accuracy para SVM en test {:.4f}'.format(sv_mod))"
   ]
  },
  {
   "cell_type": "code",
   "execution_count": 196,
   "id": "d20c6245",
   "metadata": {},
   "outputs": [
    {
     "name": "stdout",
     "output_type": "stream",
     "text": [
      "Fitting 10 folds for each of 169 candidates, totalling 1690 fits\n",
      "{'C': 681292.0690579622, 'gamma': 1.0, 'kernel': 'rbf'}\n",
      "Accuracy mejor rbf SVM : 98.94%\n"
     ]
    }
   ],
   "source": [
    "#rbf\n",
    "# Parámetros\n",
    "param_grid = {'C': list(np.logspace(0, 10, 13)),\n",
    "              'gamma':list(np.logspace(-9, 3, 13)),\n",
    "              'kernel': ['rbf']}\n",
    "grid = GridSearchCV(SVC(), param_grid, cv=10, scoring='accuracy', return_train_score=False,verbose=1)\n",
    " \n",
    "# fitting the model for grid search\n",
    "grid_search=grid.fit(X_train, y_train)\n",
    "\n",
    "# Mejores hiperparámetros\n",
    "print(grid_search.best_params_)\n",
    "accuracy = grid_search.best_score_ *100\n",
    "print(\"Accuracy mejor rbf SVM : {:.2f}%\".format(accuracy) )"
   ]
  },
  {
   "cell_type": "code",
   "execution_count": 202,
   "id": "43afa7ef",
   "metadata": {},
   "outputs": [
    {
     "name": "stdout",
     "output_type": "stream",
     "text": [
      "Fitting 10 folds for each of 13 candidates, totalling 130 fits\n",
      "{'C': 100000.0}\n",
      "Accuracy mejor rbf SVM : 98.94%\n"
     ]
    }
   ],
   "source": [
    "#poli\n",
    "# Parámetros\n",
    "param_grid = {'C': list(np.logspace(0, 10, 13))}\n",
    "grid = GridSearchCV(SVC(kernel=\"poly\", degree=5,gamma=1), param_grid, cv=10, scoring='accuracy', return_train_score=False,verbose=1)\n",
    " \n",
    "# fitting the model for grid search\n",
    "grid_search=grid.fit(X_train, y_train)\n",
    "\n",
    "# Mejores hiperparámetros\n",
    "print(grid_search.best_params_)\n",
    "accuracy = grid_search.best_score_ *100\n",
    "print(\"Accuracy mejor rbf SVM : {:.2f}%\".format(accuracy) )"
   ]
  },
  {
   "cell_type": "code",
   "execution_count": 186,
   "id": "6b2722c2",
   "metadata": {},
   "outputs": [
    {
     "name": "stdout",
     "output_type": "stream",
     "text": [
      "r2 para Árboles de Clasificación en train 1.0000\n",
      "r2 para Árboles de Clasificación  en test 0.9396\n",
      "f1 para Árboles de Clasificación en train 1.0000\n",
      "f1 para Árboles de Clasificación  en test 0.9864\n",
      "Accuracy para Árboles de Clasificación en train 1.0000\n",
      "Accuracy para Árboles de Clasificación en test 1.0000\n"
     ]
    }
   ],
   "source": [
    "#para rbf\n",
    "SVC_model=SVC(kernel='rbf', C=681292.0690579622, gamma=1)\n",
    "SVC_model.fit(X_train, y_train)\n",
    "y_train_pred_ej_3 = SVC_model.predict(X_train)\n",
    "y_test_pred_ej_3 = SVC_model.predict(X_test)\n",
    "\n",
    "r2_train_ej_3 = r2_score(y_true=y_train, y_pred= y_train_pred_ej_3)\n",
    "r2_test_ej_3 = r2_score(y_true=y_test, y_pred= y_test_pred_ej_3)\n",
    "\n",
    "print('r2 para SVM en train {:.4f}'.format(r2_train_ej_3))\n",
    "print('r2 para SVM   en test {:.4f}'.format(r2_test_ej_3))\n",
    "\n",
    "f1_train_ej_3 = f1_score(y_true=y_train, y_pred= y_train_pred_ej_3)\n",
    "f1_test_ej_3 = f1_score(y_true=y_test, y_pred= y_test_pred_ej_3)\n",
    "print('f1 para SVM  en train {:.4f}'.format(f1_train_ej_3))\n",
    "print('f1 para SVM   en test {:.4f}'.format(f1_test_ej_3))\n",
    "\n",
    "Ac_train_ej_3 = accuracy_score(y_true=y_train, y_pred= y_train_pred_ej_3)\n",
    "Ac_test_ej_3 = accuracy_score(y_true=y_test, y_pred= y_test_pred_ej_3)\n",
    "print('Accuracy para SVM  en train {:.4f}'.format(Ac_train_ej_3))\n",
    "print('Accuracy para SVM en test {:.4f}'.format(Ac_train_ej_3))"
   ]
  },
  {
   "cell_type": "code",
   "execution_count": 415,
   "id": "18a99999",
   "metadata": {},
   "outputs": [
    {
     "name": "stdout",
     "output_type": "stream",
     "text": [
      "r2 para SVM en train 1.0000\n",
      "r2 para SVM   en test 0.9396\n",
      "f1 para SVM  en train 1.0000\n",
      "f1 para SVM   en test 0.9864\n",
      "Accuracy para SVM  en train 1.0000\n",
      "Accuracy para SVM en test 1.0000\n"
     ]
    }
   ],
   "source": [
    "#para poli\n",
    "SVC_model=SVC(kernel='poly', degree=5 ,C=100000, gamma=1)\n",
    "SVC_model.fit(X_train, y_train)\n",
    "\n",
    "y_train_pred_ej_3 = SVC_model.predict(X_train)\n",
    "y_test_pred_ej_3 = SVC_model.predict(X_test)\n",
    "\n",
    "r2_train_ej_3 = r2_score(y_true=y_train, y_pred= y_train_pred_ej_3)\n",
    "r2_test_ej_3 = r2_score(y_true=y_test, y_pred= y_test_pred_ej_3)\n",
    "\n",
    "print('r2 para SVM en train {:.4f}'.format(r2_train_ej_3))\n",
    "print('r2 para SVM   en test {:.4f}'.format(r2_test_ej_3))\n",
    "\n",
    "f1_train_ej_3 = f1_score(y_true=y_train, y_pred= y_train_pred_ej_3)\n",
    "f1_test_ej_3 = f1_score(y_true=y_test, y_pred= y_test_pred_ej_3)\n",
    "print('f1 para SVM  en train {:.4f}'.format(f1_train_ej_3))\n",
    "print('f1 para SVM   en test {:.4f}'.format(f1_test_ej_3))\n",
    "\n",
    "Ac_train_ej_3 = accuracy_score(y_true=y_train, y_pred= y_train_pred_ej_3)\n",
    "Ac_test_ej_3 = accuracy_score(y_true=y_test, y_pred= y_test_pred_ej_3)\n",
    "print('Accuracy para SVM  en train {:.4f}'.format(Ac_train_ej_3))\n",
    "print('Accuracy para SVM en test {:.4f}'.format(Ac_train_ej_3))"
   ]
  },
  {
   "cell_type": "code",
   "execution_count": 416,
   "id": "746b8734",
   "metadata": {},
   "outputs": [
    {
     "data": {
      "text/html": [
       "<div>\n",
       "<style scoped>\n",
       "    .dataframe tbody tr th:only-of-type {\n",
       "        vertical-align: middle;\n",
       "    }\n",
       "\n",
       "    .dataframe tbody tr th {\n",
       "        vertical-align: top;\n",
       "    }\n",
       "\n",
       "    .dataframe thead th {\n",
       "        text-align: right;\n",
       "    }\n",
       "</style>\n",
       "<table border=\"1\" class=\"dataframe\">\n",
       "  <thead>\n",
       "    <tr style=\"text-align: right;\">\n",
       "      <th></th>\n",
       "      <th>0</th>\n",
       "      <th>1</th>\n",
       "    </tr>\n",
       "  </thead>\n",
       "  <tbody>\n",
       "    <tr>\n",
       "      <th>0</th>\n",
       "      <td>88</td>\n",
       "      <td>2</td>\n",
       "    </tr>\n",
       "    <tr>\n",
       "      <th>1</th>\n",
       "      <td>5</td>\n",
       "      <td>106</td>\n",
       "    </tr>\n",
       "  </tbody>\n",
       "</table>\n",
       "</div>"
      ],
      "text/plain": [
       "    0    1\n",
       "0  88    2\n",
       "1   5  106"
      ]
     },
     "execution_count": 416,
     "metadata": {},
     "output_type": "execute_result"
    }
   ],
   "source": [
    "#KNN\n",
    "Confu_matrix_KNN=pd.DataFrame(confusion_matrix(y_true=y_test, y_pred= y_test_pred_ej))\n",
    "Confu_matrix_KNN"
   ]
  },
  {
   "cell_type": "code",
   "execution_count": 417,
   "id": "a6f065eb",
   "metadata": {},
   "outputs": [
    {
     "data": {
      "text/html": [
       "<div>\n",
       "<style scoped>\n",
       "    .dataframe tbody tr th:only-of-type {\n",
       "        vertical-align: middle;\n",
       "    }\n",
       "\n",
       "    .dataframe tbody tr th {\n",
       "        vertical-align: top;\n",
       "    }\n",
       "\n",
       "    .dataframe thead th {\n",
       "        text-align: right;\n",
       "    }\n",
       "</style>\n",
       "<table border=\"1\" class=\"dataframe\">\n",
       "  <thead>\n",
       "    <tr style=\"text-align: right;\">\n",
       "      <th></th>\n",
       "      <th>0</th>\n",
       "      <th>1</th>\n",
       "    </tr>\n",
       "  </thead>\n",
       "  <tbody>\n",
       "    <tr>\n",
       "      <th>0</th>\n",
       "      <td>89</td>\n",
       "      <td>1</td>\n",
       "    </tr>\n",
       "    <tr>\n",
       "      <th>1</th>\n",
       "      <td>0</td>\n",
       "      <td>111</td>\n",
       "    </tr>\n",
       "  </tbody>\n",
       "</table>\n",
       "</div>"
      ],
      "text/plain": [
       "    0    1\n",
       "0  89    1\n",
       "1   0  111"
      ]
     },
     "execution_count": 417,
     "metadata": {},
     "output_type": "execute_result"
    }
   ],
   "source": [
    "#AC\n",
    "Confu_matrix_AC=pd.DataFrame(confusion_matrix(y_true=y_test, y_pred= y_test_pred_ej_2))\n",
    "Confu_matrix_AC"
   ]
  },
  {
   "cell_type": "code",
   "execution_count": 419,
   "id": "8cf3830e",
   "metadata": {},
   "outputs": [
    {
     "data": {
      "text/html": [
       "<div>\n",
       "<style scoped>\n",
       "    .dataframe tbody tr th:only-of-type {\n",
       "        vertical-align: middle;\n",
       "    }\n",
       "\n",
       "    .dataframe tbody tr th {\n",
       "        vertical-align: top;\n",
       "    }\n",
       "\n",
       "    .dataframe thead th {\n",
       "        text-align: right;\n",
       "    }\n",
       "</style>\n",
       "<table border=\"1\" class=\"dataframe\">\n",
       "  <thead>\n",
       "    <tr style=\"text-align: right;\">\n",
       "      <th></th>\n",
       "      <th>0</th>\n",
       "      <th>1</th>\n",
       "    </tr>\n",
       "  </thead>\n",
       "  <tbody>\n",
       "    <tr>\n",
       "      <th>0</th>\n",
       "      <td>89</td>\n",
       "      <td>1</td>\n",
       "    </tr>\n",
       "    <tr>\n",
       "      <th>1</th>\n",
       "      <td>2</td>\n",
       "      <td>109</td>\n",
       "    </tr>\n",
       "  </tbody>\n",
       "</table>\n",
       "</div>"
      ],
      "text/plain": [
       "    0    1\n",
       "0  89    1\n",
       "1   2  109"
      ]
     },
     "execution_count": 419,
     "metadata": {},
     "output_type": "execute_result"
    }
   ],
   "source": [
    "#SVM\n",
    "Confu_matrix_SVM=pd.DataFrame(confusion_matrix(y_true=y_test, y_pred= y_test_pred_ej_3))\n",
    "Confu_matrix_SVM"
   ]
  },
  {
   "cell_type": "code",
   "execution_count": 422,
   "id": "84e213a4",
   "metadata": {},
   "outputs": [
    {
     "data": {
      "image/png": "[encoded data removed]",
      "text/plain": [
       "<Figure size 720x504 with 2 Axes>"
      ]
     },
     "metadata": {},
     "output_type": "display_data"
    }
   ],
   "source": [
    "plt.figure(figsize=(10,7))\n",
    "sns.set(font_scale=1.4) # for label size\n",
    "sns.heatmap(Confu_matrix_KNN, annot=True, annot_kws={\"size\": 16},\n",
    "           fmt='g') \n",
    "plt.title(\"Matriz de confusión KNN\")\n",
    "plt.ylabel('Datos reales')\n",
    "plt.xlabel('Datos predichos')\n",
    "plt.show()"
   ]
  },
  {
   "cell_type": "code",
   "execution_count": 423,
   "id": "3530375b",
   "metadata": {},
   "outputs": [
    {
     "data": {
      "image/png": "[encoded data removed]",
      "text/plain": [
       "<Figure size 720x504 with 2 Axes>"
      ]
     },
     "metadata": {},
     "output_type": "display_data"
    }
   ],
   "source": [
    "plt.figure(figsize=(10,7))\n",
    "sns.set(font_scale=1.4) # for label size\n",
    "sns.heatmap(Confu_matrix_AC, annot=True, annot_kws={\"size\": 16},\n",
    "           fmt='g') \n",
    "plt.title(\"Matriz de confusión AC\")\n",
    "plt.ylabel('Datos reales')\n",
    "plt.xlabel('Datos predichos')\n",
    "plt.show()"
   ]
  },
  {
   "cell_type": "code",
   "execution_count": 424,
   "id": "c709ea23",
   "metadata": {},
   "outputs": [
    {
     "data": {
      "image/png": "[encoded data removed]",
      "text/plain": [
       "<Figure size 720x504 with 2 Axes>"
      ]
     },
     "metadata": {},
     "output_type": "display_data"
    }
   ],
   "source": [
    "plt.figure(figsize=(10,7))\n",
    "sns.set(font_scale=1.4) # for label size\n",
    "sns.heatmap(Confu_matrix_SVM, annot=True, annot_kws={\"size\": 16},\n",
    "           fmt='g') \n",
    "plt.title(\"Matriz de confusión SVM\")\n",
    "plt.ylabel('Datos reales')\n",
    "plt.xlabel('Datos predichos')\n",
    "plt.show()"
   ]
  },
  {
   "cell_type": "code",
   "execution_count": 283,
   "id": "88f8c837",
   "metadata": {},
   "outputs": [
    {
     "data": {
      "text/plain": [
       "[Text(111.60000000000001, 195.696, 'X[1] <= 0.213\\ngini = 0.491\\nsamples = 468\\nvalue = [202, 266]'),\n",
       " Text(55.800000000000004, 152.208, 'gini = 0.0\\nsamples = 178\\nvalue = [178, 0]'),\n",
       " Text(167.4, 152.208, 'X[0] <= 0.088\\ngini = 0.152\\nsamples = 290\\nvalue = [24, 266]'),\n",
       " Text(111.60000000000001, 108.72, 'gini = 0.0\\nsamples = 20\\nvalue = [20, 0]'),\n",
       " Text(223.20000000000002, 108.72, 'X[0] <= 0.202\\ngini = 0.029\\nsamples = 270\\nvalue = [4, 266]'),\n",
       " Text(167.4, 65.232, 'X[3] <= 0.5\\ngini = 0.213\\nsamples = 33\\nvalue = [4, 29]'),\n",
       " Text(111.60000000000001, 21.744, 'gini = 0.0\\nsamples = 29\\nvalue = [0, 29]'),\n",
       " Text(223.20000000000002, 21.744, 'gini = 0.0\\nsamples = 4\\nvalue = [4, 0]'),\n",
       " Text(279.0, 65.232, 'gini = 0.0\\nsamples = 237\\nvalue = [0, 237]')]"
      ]
     },
     "execution_count": 283,
     "metadata": {},
     "output_type": "execute_result"
    },
    {
     "data": {
      "image/png": "[encoded data removed]",
      "text/plain": [
       "<Figure size 432x288 with 1 Axes>"
      ]
     },
     "metadata": {},
     "output_type": "display_data"
    }
   ],
   "source": [
    "tree.plot_tree(AC)"
   ]
  },
  {
   "cell_type": "code",
   "execution_count": 284,
   "id": "a8f11a2a",
   "metadata": {},
   "outputs": [
    {
     "data": {
      "image/png": "[encoded data removed]",
      "text/plain": [
       "<Figure size 1800x1440 with 1 Axes>"
      ]
     },
     "metadata": {},
     "output_type": "display_data"
    }
   ],
   "source": [
    "from matplotlib import pyplot as plt\n",
    "from sklearn import tree\n",
    "fig = plt.figure(figsize=(25,20))\n",
    "_ = tree.plot_tree(AC,\n",
    "                   feature_names=list(df.columns.values),\n",
    "                   class_names=list((\"Rechazado\",\"Aceptado\")),\n",
    "                   filled=True)"
   ]
  },
  {
   "cell_type": "code",
   "execution_count": 358,
   "id": "3a94ee71",
   "metadata": {},
   "outputs": [],
   "source": [
    "#Correlación en test\n",
    "X_test_2= X_test.copy()\n",
    "X_test_2[\"Aprobado KNN\"]=y_test_pred_ej\n",
    "X_test_2[\"Aprobado AC \"]=y_test_pred_ej_2\n",
    "X_test_2[\"Aprobado SVM \"]=y_test_pred_ej_3\n",
    "df_H= pd.DataFrame(data=X_test_2)"
   ]
  },
  {
   "cell_type": "code",
   "execution_count": 359,
   "id": "d7745c24",
   "metadata": {
    "scrolled": true
   },
   "outputs": [
    {
     "data": {
      "image/png": "[encoded data removed]",
      "text/plain": [
       "<Figure size 432x288 with 2 Axes>"
      ]
     },
     "metadata": {},
     "output_type": "display_data"
    }
   ],
   "source": [
    "correlation_mat = df_H.corr()\n",
    "sns.heatmap(correlation_mat, annot = True, cmap=\"Blues\",fmt='.2f')\n",
    "plt.show()"
   ]
  },
  {
   "cell_type": "code",
   "execution_count": 378,
   "id": "49846a5c",
   "metadata": {},
   "outputs": [
    {
     "name": "stdout",
     "output_type": "stream",
     "text": [
      "Número de créditos aprobados KNN 108.000\n",
      "Número de créditos aprobados KNN 0.5373\n"
     ]
    }
   ],
   "source": [
    "#Total aprobados\n",
    "#KNN\n",
    "Aprobados=X_test_2[\"Aprobado KNN\"].sum()\n",
    "Solicitados= len(X_test_2[\"Aprobado KNN\"])\n",
    "Ratio=Aprobados/Solicitados\n",
    "print('Número de créditos aprobados KNN {:.3f}'.format(Aprobados))\n",
    "print('Número de créditos aprobados KNN {:.4f}'.format(Ratio))"
   ]
  },
  {
   "cell_type": "code",
   "execution_count": 379,
   "id": "306f7034",
   "metadata": {},
   "outputs": [
    {
     "name": "stdout",
     "output_type": "stream",
     "text": [
      "Número de créditos aprobados AC 112.000\n",
      "Número de créditos aprobados AC 0.5572\n"
     ]
    }
   ],
   "source": [
    "#AC\n",
    "Aprobados=X_test_2[\"Aprobado AC \"].sum()\n",
    "Solicitados= len(X_test_2[\"Aprobado AC \"])\n",
    "Ratio=Aprobados/Solicitados\n",
    "print('Número de créditos aprobados AC {:.3f}'.format(Aprobados))\n",
    "print('Número de créditos aprobados AC {:.4f}'.format(Ratio))"
   ]
  },
  {
   "cell_type": "code",
   "execution_count": 381,
   "id": "042ac7b3",
   "metadata": {},
   "outputs": [
    {
     "name": "stdout",
     "output_type": "stream",
     "text": [
      "Número de créditos aprobados SVM 108.000\n",
      "Número de créditos aprobados SVM hombres 0.5373\n"
     ]
    }
   ],
   "source": [
    "#SVM\n",
    "Aprobados=X_test_2[\"Aprobado SVM \"].sum()\n",
    "Solicitados= len(X_test_2[\"Aprobado SVM \"])\n",
    "Ratio=Aprobados/Solicitados\n",
    "print('Número de créditos aprobados SVM {:.3f}'.format(Aprobados))\n",
    "print('Número de créditos aprobados SVM hombres {:.4f}'.format(Ratio))"
   ]
  },
  {
   "cell_type": "code",
   "execution_count": 367,
   "id": "1575258b",
   "metadata": {},
   "outputs": [
    {
     "data": {
      "text/html": [
       "<div>\n",
       "<style scoped>\n",
       "    .dataframe tbody tr th:only-of-type {\n",
       "        vertical-align: middle;\n",
       "    }\n",
       "\n",
       "    .dataframe tbody tr th {\n",
       "        vertical-align: top;\n",
       "    }\n",
       "\n",
       "    .dataframe thead th {\n",
       "        text-align: right;\n",
       "    }\n",
       "</style>\n",
       "<table border=\"1\" class=\"dataframe\">\n",
       "  <thead>\n",
       "    <tr style=\"text-align: right;\">\n",
       "      <th></th>\n",
       "      <th>ingresos</th>\n",
       "      <th>Activos</th>\n",
       "      <th>Genero_H</th>\n",
       "      <th>Genero_M</th>\n",
       "      <th>Aprobado KNN</th>\n",
       "      <th>Aprobado AC</th>\n",
       "      <th>Aprobado SVM</th>\n",
       "    </tr>\n",
       "  </thead>\n",
       "  <tbody>\n",
       "    <tr>\n",
       "      <th>361</th>\n",
       "      <td>0.534807</td>\n",
       "      <td>0.156212</td>\n",
       "      <td>1.0</td>\n",
       "      <td>0.0</td>\n",
       "      <td>0.0</td>\n",
       "      <td>0.0</td>\n",
       "      <td>0.0</td>\n",
       "    </tr>\n",
       "    <tr>\n",
       "      <th>158</th>\n",
       "      <td>0.249470</td>\n",
       "      <td>0.333915</td>\n",
       "      <td>1.0</td>\n",
       "      <td>0.0</td>\n",
       "      <td>1.0</td>\n",
       "      <td>1.0</td>\n",
       "      <td>1.0</td>\n",
       "    </tr>\n",
       "    <tr>\n",
       "      <th>533</th>\n",
       "      <td>0.771779</td>\n",
       "      <td>0.153250</td>\n",
       "      <td>1.0</td>\n",
       "      <td>0.0</td>\n",
       "      <td>0.0</td>\n",
       "      <td>0.0</td>\n",
       "      <td>0.0</td>\n",
       "    </tr>\n",
       "    <tr>\n",
       "      <th>362</th>\n",
       "      <td>0.535339</td>\n",
       "      <td>0.370726</td>\n",
       "      <td>1.0</td>\n",
       "      <td>0.0</td>\n",
       "      <td>1.0</td>\n",
       "      <td>1.0</td>\n",
       "      <td>1.0</td>\n",
       "    </tr>\n",
       "    <tr>\n",
       "      <th>310</th>\n",
       "      <td>0.474159</td>\n",
       "      <td>0.525019</td>\n",
       "      <td>1.0</td>\n",
       "      <td>0.0</td>\n",
       "      <td>1.0</td>\n",
       "      <td>1.0</td>\n",
       "      <td>1.0</td>\n",
       "    </tr>\n",
       "  </tbody>\n",
       "</table>\n",
       "</div>"
      ],
      "text/plain": [
       "     ingresos   Activos  Genero_H  Genero_M  Aprobado KNN  Aprobado AC   \\\n",
       "361  0.534807  0.156212       1.0       0.0           0.0           0.0   \n",
       "158  0.249470  0.333915       1.0       0.0           1.0           1.0   \n",
       "533  0.771779  0.153250       1.0       0.0           0.0           0.0   \n",
       "362  0.535339  0.370726       1.0       0.0           1.0           1.0   \n",
       "310  0.474159  0.525019       1.0       0.0           1.0           1.0   \n",
       "\n",
       "     Aprobado SVM   \n",
       "361            0.0  \n",
       "158            1.0  \n",
       "533            0.0  \n",
       "362            1.0  \n",
       "310            1.0  "
      ]
     },
     "execution_count": 367,
     "metadata": {},
     "output_type": "execute_result"
    }
   ],
   "source": [
    "#sólo hombres\n",
    "Base_H=X_test_2[X_test_2[\"Genero_H\"]>0]\n",
    "Base_H.head()"
   ]
  },
  {
   "cell_type": "code",
   "execution_count": 362,
   "id": "9ab2f1c5",
   "metadata": {},
   "outputs": [
    {
     "name": "stdout",
     "output_type": "stream",
     "text": [
      "Número de créditos aprobados 88.000\n",
      "Número de créditos aprobados hombres 0.5986\n"
     ]
    }
   ],
   "source": [
    "#KNN\n",
    "Aprobados=Base_H[\"Aprobado KNN\"].sum()\n",
    "Solicitados= len(Base_H[\"Aprobado KNN\"])\n",
    "Ratio=Aprobados/Solicitados\n",
    "print('Número de créditos aprobados KNN {:.3f}'.format(Aprobados))\n",
    "print('Número de créditos aprobados KNN hombres {:.4f}'.format(Ratio))"
   ]
  },
  {
   "cell_type": "code",
   "execution_count": 370,
   "id": "1dd30fec",
   "metadata": {},
   "outputs": [
    {
     "name": "stdout",
     "output_type": "stream",
     "text": [
      "Número de créditos aprobados AC 89.000\n",
      "Número de créditos aprobados AC hombres 0.6054\n"
     ]
    }
   ],
   "source": [
    "#AC\n",
    "Aprobados=Base_H[\"Aprobado AC \"].sum()\n",
    "Solicitados= len(Base_H[\"Aprobado AC \"])\n",
    "Ratio=Aprobados/Solicitados\n",
    "print('Número de créditos aprobados AC {:.3f}'.format(Aprobados))\n",
    "print('Número de créditos aprobados AC hombres {:.4f}'.format(Ratio))"
   ]
  },
  {
   "cell_type": "code",
   "execution_count": 373,
   "id": "49f15990",
   "metadata": {},
   "outputs": [
    {
     "name": "stdout",
     "output_type": "stream",
     "text": [
      "Número de créditos aprobados SVM 87.000\n",
      "Número de créditos aprobados SVM hombres 0.5918\n"
     ]
    }
   ],
   "source": [
    "#SVM\n",
    "Aprobados=Base_H[\"Aprobado SVM \"].sum()\n",
    "Solicitados= len(Base_H[\"Aprobado SVM \"])\n",
    "Ratio=Aprobados/Solicitados\n",
    "print('Número de créditos aprobados SVM {:.3f}'.format(Aprobados))\n",
    "print('Número de créditos aprobados SVM hombres {:.4f}'.format(Ratio))"
   ]
  },
  {
   "cell_type": "code",
   "execution_count": 374,
   "id": "080fc5d3",
   "metadata": {},
   "outputs": [
    {
     "data": {
      "text/html": [
       "<div>\n",
       "<style scoped>\n",
       "    .dataframe tbody tr th:only-of-type {\n",
       "        vertical-align: middle;\n",
       "    }\n",
       "\n",
       "    .dataframe tbody tr th {\n",
       "        vertical-align: top;\n",
       "    }\n",
       "\n",
       "    .dataframe thead th {\n",
       "        text-align: right;\n",
       "    }\n",
       "</style>\n",
       "<table border=\"1\" class=\"dataframe\">\n",
       "  <thead>\n",
       "    <tr style=\"text-align: right;\">\n",
       "      <th></th>\n",
       "      <th>ingresos</th>\n",
       "      <th>Activos</th>\n",
       "      <th>Genero_H</th>\n",
       "      <th>Genero_M</th>\n",
       "      <th>Aprobado KNN</th>\n",
       "      <th>Aprobado AC</th>\n",
       "      <th>Aprobado SVM</th>\n",
       "    </tr>\n",
       "  </thead>\n",
       "  <tbody>\n",
       "    <tr>\n",
       "      <th>478</th>\n",
       "      <td>0.700184</td>\n",
       "      <td>0.310645</td>\n",
       "      <td>0.0</td>\n",
       "      <td>1.0</td>\n",
       "      <td>1.0</td>\n",
       "      <td>1.0</td>\n",
       "      <td>1.0</td>\n",
       "    </tr>\n",
       "    <tr>\n",
       "      <th>275</th>\n",
       "      <td>0.417970</td>\n",
       "      <td>0.173905</td>\n",
       "      <td>0.0</td>\n",
       "      <td>1.0</td>\n",
       "      <td>0.0</td>\n",
       "      <td>0.0</td>\n",
       "      <td>0.0</td>\n",
       "    </tr>\n",
       "    <tr>\n",
       "      <th>90</th>\n",
       "      <td>0.157895</td>\n",
       "      <td>0.269590</td>\n",
       "      <td>0.0</td>\n",
       "      <td>1.0</td>\n",
       "      <td>0.0</td>\n",
       "      <td>0.0</td>\n",
       "      <td>0.0</td>\n",
       "    </tr>\n",
       "    <tr>\n",
       "      <th>354</th>\n",
       "      <td>0.526833</td>\n",
       "      <td>0.256623</td>\n",
       "      <td>0.0</td>\n",
       "      <td>1.0</td>\n",
       "      <td>1.0</td>\n",
       "      <td>1.0</td>\n",
       "      <td>1.0</td>\n",
       "    </tr>\n",
       "    <tr>\n",
       "      <th>211</th>\n",
       "      <td>0.325898</td>\n",
       "      <td>0.046607</td>\n",
       "      <td>0.0</td>\n",
       "      <td>1.0</td>\n",
       "      <td>0.0</td>\n",
       "      <td>0.0</td>\n",
       "      <td>0.0</td>\n",
       "    </tr>\n",
       "  </tbody>\n",
       "</table>\n",
       "</div>"
      ],
      "text/plain": [
       "     ingresos   Activos  Genero_H  Genero_M  Aprobado KNN  Aprobado AC   \\\n",
       "478  0.700184  0.310645       0.0       1.0           1.0           1.0   \n",
       "275  0.417970  0.173905       0.0       1.0           0.0           0.0   \n",
       "90   0.157895  0.269590       0.0       1.0           0.0           0.0   \n",
       "354  0.526833  0.256623       0.0       1.0           1.0           1.0   \n",
       "211  0.325898  0.046607       0.0       1.0           0.0           0.0   \n",
       "\n",
       "     Aprobado SVM   \n",
       "478            1.0  \n",
       "275            0.0  \n",
       "90             0.0  \n",
       "354            1.0  \n",
       "211            0.0  "
      ]
     },
     "execution_count": 374,
     "metadata": {},
     "output_type": "execute_result"
    }
   ],
   "source": [
    "#sólo mujeres\n",
    "Base_M=X_test_2[X_test_2[\"Genero_M\"]>0]"
   ]
  },
  {
   "cell_type": "code",
   "execution_count": 375,
   "id": "a1adb87b",
   "metadata": {},
   "outputs": [
    {
     "name": "stdout",
     "output_type": "stream",
     "text": [
      "Número de créditos aprobados KNN 20.000\n",
      "Número de créditos aprobados KNN hombres 0.3704\n"
     ]
    }
   ],
   "source": [
    "#KNN\n",
    "Aprobados=Base_M[\"Aprobado KNN\"].sum()\n",
    "Solicitados= len(Base_M[\"Aprobado KNN\"])\n",
    "Ratio=Aprobados/Solicitados\n",
    "print('Número de créditos aprobados KNN {:.3f}'.format(Aprobados))\n",
    "print('Número de créditos aprobados KNN hombres {:.4f}'.format(Ratio))"
   ]
  },
  {
   "cell_type": "code",
   "execution_count": 376,
   "id": "576c1ae3",
   "metadata": {},
   "outputs": [
    {
     "name": "stdout",
     "output_type": "stream",
     "text": [
      "Número de créditos aprobados AC 23.000\n",
      "Número de créditos aprobados AC hombres 0.4259\n"
     ]
    }
   ],
   "source": [
    "#AC\n",
    "Aprobados=Base_M[\"Aprobado AC \"].sum()\n",
    "Solicitados= len(Base_M[\"Aprobado AC \"])\n",
    "Ratio=Aprobados/Solicitados\n",
    "print('Número de créditos aprobados AC {:.3f}'.format(Aprobados))\n",
    "print('Número de créditos aprobados AC hombres {:.4f}'.format(Ratio))"
   ]
  },
  {
   "cell_type": "code",
   "execution_count": 377,
   "id": "5f7ad205",
   "metadata": {},
   "outputs": [
    {
     "name": "stdout",
     "output_type": "stream",
     "text": [
      "Número de créditos aprobados SVM 21.000\n",
      "Número de créditos aprobados SVM hombres 0.3889\n"
     ]
    }
   ],
   "source": [
    "#SVM\n",
    "Aprobados=Base_M[\"Aprobado SVM \"].sum()\n",
    "Solicitados= len(Base_M[\"Aprobado SVM \"])\n",
    "Ratio=Aprobados/Solicitados\n",
    "print('Número de créditos aprobados SVM {:.3f}'.format(Aprobados))\n",
    "print('Número de créditos aprobados SVM hombres {:.4f}'.format(Ratio))"
   ]
  },
  {
   "cell_type": "code",
   "execution_count": 285,
   "id": "4b1467ac",
   "metadata": {},
   "outputs": [],
   "source": [
    "#Mujeres\n",
    "df_M=df[df[\"Genero_M\"]>0]\n",
    "X_train, X_test, y_train, y_test = train_test_split(df_M.drop(['Aceptado'], axis=1), df_M.Aceptado, random_state=42)"
   ]
  },
  {
   "cell_type": "code",
   "execution_count": 51,
   "id": "e41a919b",
   "metadata": {},
   "outputs": [
    {
     "data": {
      "text/plain": [
       "SVC()"
      ]
     },
     "execution_count": 51,
     "metadata": {},
     "output_type": "execute_result"
    }
   ],
   "source": [
    "#Se cargan los modelos\n",
    "##KNN\n",
    "KNN = KNeighborsClassifier(n_neighbors=1)\n",
    "KNN.fit(X_train, y_train)"
   ]
  },
  {
   "cell_type": "code",
   "execution_count": 287,
   "id": "0830d384",
   "metadata": {},
   "outputs": [
    {
     "name": "stdout",
     "output_type": "stream",
     "text": [
      "r2 para KNN género M en train 0.9340\n",
      "r2 para  KNN género M   en test 0.7196\n",
      "f1 para KNN género M  en train 0.9800\n",
      "f1 para  KNN género M  en test 0.9189\n",
      "Accuracy para  KNN género M  en train 0.9843\n",
      "Accuracy para  KNN género M en test 0.9843\n"
     ]
    }
   ],
   "source": [
    "y_train_pred_ej_M = KNN.predict(X_train)\n",
    "y_test_pred_ej_M = KNN.predict(X_test)\n",
    "\n",
    "r2_train_ej_M = r2_score(y_true=y_train, y_pred= y_train_pred_ej_M)\n",
    "r2_test_ej_M = r2_score(y_true=y_test, y_pred= y_test_pred_ej_M)\n",
    "\n",
    "print('r2 para KNN género femenino en train {:.4f}'.format(r2_train_ej_M))\n",
    "print('r2 para  KNN género femenino   en test {:.4f}'.format(r2_test_ej_M))\n",
    "\n",
    "f1_train_ej_M = f1_score(y_true=y_train, y_pred= y_train_pred_ej_M)\n",
    "f1_test_ej_M = f1_score(y_true=y_test, y_pred= y_test_pred_ej_M)\n",
    "\n",
    "print('f1 para KNN género femenino  en train {:.4f}'.format(f1_train_ej_M))\n",
    "print('f1 para  KNN género femenino  en test {:.4f}'.format(f1_test_ej_M))\n",
    "\n",
    "Ac_train_ej_M = accuracy_score(y_true=y_train, y_pred= y_train_pred_ej_M)\n",
    "Ac_test_ej_M = accuracy_score(y_true=y_test, y_pred= y_test_pred_ej_M)\n",
    "print('Accuracy para  KNN género femenino  en train {:.4f}'.format(Ac_train_ej_M))\n",
    "print('Accuracy para  KNN género femenino en test {:.4f}'.format(Ac_train_ej_M))"
   ]
  },
  {
   "cell_type": "code",
   "execution_count": 288,
   "id": "627c8fb0",
   "metadata": {},
   "outputs": [
    {
     "data": {
      "text/plain": [
       "DecisionTreeClassifier(max_depth=4)"
      ]
     },
     "execution_count": 288,
     "metadata": {},
     "output_type": "execute_result"
    }
   ],
   "source": [
    "#AC\n",
    "AC= DecisionTreeClassifier(criterion=\"gini\", max_depth=4)\n",
    "AC.fit(X_train, y_train)"
   ]
  },
  {
   "cell_type": "code",
   "execution_count": 289,
   "id": "4087d8ef",
   "metadata": {},
   "outputs": [
    {
     "name": "stdout",
     "output_type": "stream",
     "text": [
      "r2 para Árboles de Clasificación género M en train 1.0000\n",
      "r2 para Árboles de Clasificación género M en test 0.8130\n",
      "f1 para Árboles de Clasificación género M en train 1.0000\n",
      "f1 para Árboles de Clasificación género M en test 0.9474\n",
      "Accuracy para Árboles de Clasificación género M en train 1.0000\n",
      "Accuracy para Árboles de Clasificación género M en test 1.0000\n"
     ]
    }
   ],
   "source": [
    "y_train_pred_ej_2_M = AC.predict(X_train)\n",
    "y_test_pred_ej_2_M = AC.predict(X_test)\n",
    "\n",
    "r2_train_ej_2_M = r2_score(y_true=y_train, y_pred= y_train_pred_ej_2_M)\n",
    "r2_test_ej_2_M = r2_score(y_true=y_test, y_pred= y_test_pred_ej_2_M)\n",
    "\n",
    "print('r2 para Árboles de Clasificación género femenino en train {:.4f}'.format(r2_train_ej_2_M))\n",
    "print('r2 para Árboles de Clasificación género femenino en test {:.4f}'.format(r2_test_ej_2_M))\n",
    "\n",
    "f1_train_ej_2_M = f1_score(y_true=y_train, y_pred= y_train_pred_ej_2_M)\n",
    "f1_test_ej_2_M = f1_score(y_true=y_test, y_pred= y_test_pred_ej_2_M)\n",
    "\n",
    "print('f1 para Árboles de Clasificación género femenino en train {:.4f}'.format(f1_train_ej_2_M))\n",
    "print('f1 para Árboles de Clasificación género femenino en test {:.4f}'.format(f1_test_ej_2_M))\n",
    "\n",
    "Ac_train_ej_2_M = accuracy_score(y_true=y_train, y_pred= y_train_pred_ej_2_M)\n",
    "Ac_test_ej_2_M = accuracy_score(y_true=y_test, y_pred= y_test_pred_ej_2_M)\n",
    "\n",
    "print('Accuracy para Árboles de Clasificación género femenino en train {:.4f}'.format(Ac_train_ej_2_M))\n",
    "print('Accuracy para Árboles de Clasificación género femenino en test {:.4f}'.format(Ac_train_ej_2_M))"
   ]
  },
  {
   "cell_type": "code",
   "execution_count": null,
   "id": "cbb1856c",
   "metadata": {},
   "outputs": [],
   "source": [
    "#SVM\n",
    "SVC_model=SVC(kernel='poly', degree=5 ,C=100000, gamma=1)\n",
    "SVC_model.fit(X_train, y_train)"
   ]
  },
  {
   "cell_type": "code",
   "execution_count": 290,
   "id": "5d4d48e4",
   "metadata": {},
   "outputs": [
    {
     "name": "stdout",
     "output_type": "stream",
     "text": [
      "r2 para SVM en train 0.9670\n",
      "r2 para SVM   en test 0.7196\n",
      "f1 para SVM  en train 0.9899\n",
      "f1 para SVM   en test 0.9189\n",
      "Accuracy para SVM  en train 0.9921\n",
      "Accuracy para SVM en test 0.9921\n"
     ]
    }
   ],
   "source": [
    "y_train_pred_ej_3_M = SVC_model.predict(X_train)\n",
    "y_test_pred_ej_3_M = SVC_model.predict(X_test)\n",
    "\n",
    "r2_train_ej_3_M = r2_score(y_true=y_train, y_pred= y_train_pred_ej_3_M)\n",
    "r2_test_ej_3_M = r2_score(y_true=y_test, y_pred= y_test_pred_ej_3_M)\n",
    "\n",
    "print('r2 para SVM género femenino  en train {:.4f}'.format(r2_train_ej_3_M))\n",
    "print('r2 para SVM  género femenino  en test {:.4f}'.format(r2_test_ej_3_M))\n",
    "\n",
    "f1_train_ej_3_M = f1_score(y_true=y_train, y_pred= y_train_pred_ej_3_M)\n",
    "f1_test_ej_3_M = f1_score(y_true=y_test, y_pred= y_test_pred_ej_3_M)\n",
    "\n",
    "print('f1 para SVM género femenino  en train {:.4f}'.format(f1_train_ej_3_M))\n",
    "print('f1 para SVM  género femenino  en test {:.4f}'.format(f1_test_ej_3_M))\n",
    "\n",
    "Ac_train_ej_3_M = accuracy_score(y_true=y_train, y_pred= y_train_pred_ej_3_M)\n",
    "Ac_test_ej_3_M = accuracy_score(y_true=y_test, y_pred= y_test_pred_ej_3_M)\n",
    "\n",
    "print('Accuracy para SVM género femenino  en train {:.4f}'.format(Ac_train_ej_3_M))\n",
    "print('Accuracy para SVM género femenino  en test {:.4f}'.format(Ac_train_ej_3_M))"
   ]
  },
  {
   "cell_type": "code",
   "execution_count": 293,
   "id": "a78c89e0",
   "metadata": {},
   "outputs": [
    {
     "data": {
      "text/html": [
       "<div>\n",
       "<style scoped>\n",
       "    .dataframe tbody tr th:only-of-type {\n",
       "        vertical-align: middle;\n",
       "    }\n",
       "\n",
       "    .dataframe tbody tr th {\n",
       "        vertical-align: top;\n",
       "    }\n",
       "\n",
       "    .dataframe thead th {\n",
       "        text-align: right;\n",
       "    }\n",
       "</style>\n",
       "<table border=\"1\" class=\"dataframe\">\n",
       "  <thead>\n",
       "    <tr style=\"text-align: right;\">\n",
       "      <th></th>\n",
       "      <th>0</th>\n",
       "      <th>1</th>\n",
       "    </tr>\n",
       "  </thead>\n",
       "  <tbody>\n",
       "    <tr>\n",
       "      <th>0</th>\n",
       "      <td>23</td>\n",
       "      <td>0</td>\n",
       "    </tr>\n",
       "    <tr>\n",
       "      <th>1</th>\n",
       "      <td>3</td>\n",
       "      <td>17</td>\n",
       "    </tr>\n",
       "  </tbody>\n",
       "</table>\n",
       "</div>"
      ],
      "text/plain": [
       "    0   1\n",
       "0  23   0\n",
       "1   3  17"
      ]
     },
     "execution_count": 293,
     "metadata": {},
     "output_type": "execute_result"
    }
   ],
   "source": [
    "#KNN\n",
    "Confu_matrix_KNN=pd.DataFrame(confusion_matrix(y_true=y_test, y_pred= y_test_pred_ej_M))\n",
    "Confu_matrix_KNN"
   ]
  },
  {
   "cell_type": "code",
   "execution_count": 294,
   "id": "1117e840",
   "metadata": {},
   "outputs": [
    {
     "data": {
      "text/html": [
       "<div>\n",
       "<style scoped>\n",
       "    .dataframe tbody tr th:only-of-type {\n",
       "        vertical-align: middle;\n",
       "    }\n",
       "\n",
       "    .dataframe tbody tr th {\n",
       "        vertical-align: top;\n",
       "    }\n",
       "\n",
       "    .dataframe thead th {\n",
       "        text-align: right;\n",
       "    }\n",
       "</style>\n",
       "<table border=\"1\" class=\"dataframe\">\n",
       "  <thead>\n",
       "    <tr style=\"text-align: right;\">\n",
       "      <th></th>\n",
       "      <th>0</th>\n",
       "      <th>1</th>\n",
       "    </tr>\n",
       "  </thead>\n",
       "  <tbody>\n",
       "    <tr>\n",
       "      <th>0</th>\n",
       "      <td>23</td>\n",
       "      <td>0</td>\n",
       "    </tr>\n",
       "    <tr>\n",
       "      <th>1</th>\n",
       "      <td>2</td>\n",
       "      <td>18</td>\n",
       "    </tr>\n",
       "  </tbody>\n",
       "</table>\n",
       "</div>"
      ],
      "text/plain": [
       "    0   1\n",
       "0  23   0\n",
       "1   2  18"
      ]
     },
     "execution_count": 294,
     "metadata": {},
     "output_type": "execute_result"
    }
   ],
   "source": [
    "#AC\n",
    "Confu_matrix_AC=pd.DataFrame(confusion_matrix(y_true=y_test, y_pred= y_test_pred_ej_2_M))\n",
    "Confu_matrix_AC"
   ]
  },
  {
   "cell_type": "code",
   "execution_count": 295,
   "id": "49fd93b7",
   "metadata": {},
   "outputs": [
    {
     "data": {
      "text/html": [
       "<div>\n",
       "<style scoped>\n",
       "    .dataframe tbody tr th:only-of-type {\n",
       "        vertical-align: middle;\n",
       "    }\n",
       "\n",
       "    .dataframe tbody tr th {\n",
       "        vertical-align: top;\n",
       "    }\n",
       "\n",
       "    .dataframe thead th {\n",
       "        text-align: right;\n",
       "    }\n",
       "</style>\n",
       "<table border=\"1\" class=\"dataframe\">\n",
       "  <thead>\n",
       "    <tr style=\"text-align: right;\">\n",
       "      <th></th>\n",
       "      <th>0</th>\n",
       "      <th>1</th>\n",
       "    </tr>\n",
       "  </thead>\n",
       "  <tbody>\n",
       "    <tr>\n",
       "      <th>0</th>\n",
       "      <td>23</td>\n",
       "      <td>0</td>\n",
       "    </tr>\n",
       "    <tr>\n",
       "      <th>1</th>\n",
       "      <td>3</td>\n",
       "      <td>17</td>\n",
       "    </tr>\n",
       "  </tbody>\n",
       "</table>\n",
       "</div>"
      ],
      "text/plain": [
       "    0   1\n",
       "0  23   0\n",
       "1   3  17"
      ]
     },
     "execution_count": 295,
     "metadata": {},
     "output_type": "execute_result"
    }
   ],
   "source": [
    "#SVM\n",
    "Confu_matrix_SVM=pd.DataFrame(confusion_matrix(y_true=y_test, y_pred= y_test_pred_ej_3_M))\n",
    "Confu_matrix_SVM"
   ]
  },
  {
   "cell_type": "code",
   "execution_count": 299,
   "id": "2d6a6ec9",
   "metadata": {},
   "outputs": [],
   "source": [
    "#Se realiza el análisis de nuevo sólo  hombres\n",
    "df_H=df[df[\"Genero_H\"]>0]\n",
    "X_train, X_test, y_train, y_test = train_test_split(df_H.drop(['Aceptado'], axis=1), df_H.Aceptado, random_state=42)"
   ]
  },
  {
   "cell_type": "code",
   "execution_count": 300,
   "id": "57f1197c",
   "metadata": {},
   "outputs": [
    {
     "data": {
      "text/plain": [
       "KNeighborsClassifier(n_neighbors=1)"
      ]
     },
     "execution_count": 300,
     "metadata": {},
     "output_type": "execute_result"
    }
   ],
   "source": [
    "# con KNN\n",
    "KNN = KNeighborsClassifier(n_neighbors=1)\n",
    "KNN.fit(X_train, y_train)"
   ]
  },
  {
   "cell_type": "code",
   "execution_count": 301,
   "id": "e5bc2492",
   "metadata": {},
   "outputs": [
    {
     "name": "stdout",
     "output_type": "stream",
     "text": [
      "r2 para KNN género masculino en train 1.0000\n",
      "r2 para  KNN género masculino   en test 0.9299\n",
      "f1 para KNN género masculino  en train 1.0000\n",
      "f1 para  KNN género masculino en test 0.9877\n",
      "Accuracy para  KNN género masculino en train 1.0000\n",
      "Accuracy para  KNN género masculino en test 1.0000\n"
     ]
    }
   ],
   "source": [
    "y_train_pred_ej_H = KNN.predict(X_train)\n",
    "y_test_pred_ej_H = KNN.predict(X_test)\n",
    "\n",
    "r2_train_ej_H = r2_score(y_true=y_train, y_pred= y_train_pred_ej_H)\n",
    "r2_test_ej_H = r2_score(y_true=y_test, y_pred= y_test_pred_ej_H)\n",
    "\n",
    "print('r2 para KNN género masculino en train {:.4f}'.format(r2_train_ej_H))\n",
    "print('r2 para  KNN género masculino   en test {:.4f}'.format(r2_test_ej_H))\n",
    "\n",
    "f1_train_ej_H = f1_score(y_true=y_train, y_pred= y_train_pred_ej_H)\n",
    "f1_test_ej_H = f1_score(y_true=y_test, y_pred= y_test_pred_ej_H)\n",
    "\n",
    "print('f1 para KNN género masculino  en train {:.4f}'.format(f1_train_ej_H))\n",
    "print('f1 para  KNN género masculino en test {:.4f}'.format(f1_test_ej_H))\n",
    "\n",
    "Ac_train_ej_H = accuracy_score(y_true=y_train, y_pred= y_train_pred_ej_H)\n",
    "Ac_test_ej_H = accuracy_score(y_true=y_test, y_pred= y_test_pred_ej_H)\n",
    "print('Accuracy para  KNN género masculino en train {:.4f}'.format(Ac_train_ej_H))\n",
    "print('Accuracy para  KNN género masculino en test {:.4f}'.format(Ac_train_ej_H))"
   ]
  },
  {
   "cell_type": "code",
   "execution_count": 302,
   "id": "64b728b4",
   "metadata": {},
   "outputs": [
    {
     "data": {
      "text/plain": [
       "DecisionTreeClassifier(max_depth=4)"
      ]
     },
     "execution_count": 302,
     "metadata": {},
     "output_type": "execute_result"
    }
   ],
   "source": [
    "#AC\n",
    "AC= DecisionTreeClassifier(criterion=\"gini\", max_depth=4)\n",
    "AC.fit(X_train, y_train)"
   ]
  },
  {
   "cell_type": "code",
   "execution_count": 304,
   "id": "6592984b",
   "metadata": {},
   "outputs": [
    {
     "name": "stdout",
     "output_type": "stream",
     "text": [
      "r2 para Árboles de Clasificación género masculino en train 1.0000\n",
      "r2 para Árboles de Clasificación género masculino en test 1.0000\n",
      "f1 para Árboles de Clasificación género masculino en train 1.0000\n",
      "f1 para Árboles de Clasificación género masculino en test 1.0000\n",
      "Accuracy para Árboles de Clasificación género masculino en train 1.0000\n",
      "Accuracy para Árboles de Clasificación género masculino en test 1.0000\n"
     ]
    }
   ],
   "source": [
    "y_train_pred_ej_2_H = AC.predict(X_train)\n",
    "y_test_pred_ej_2_H = AC.predict(X_test)\n",
    "\n",
    "r2_train_ej_2_H = r2_score(y_true=y_train, y_pred= y_train_pred_ej_2_H)\n",
    "r2_test_ej_2_H = r2_score(y_true=y_test, y_pred= y_test_pred_ej_2_H)\n",
    "\n",
    "print('r2 para Árboles de Clasificación género masculino en train {:.4f}'.format(r2_train_ej_2_H))\n",
    "print('r2 para Árboles de Clasificación género masculino en test {:.4f}'.format(r2_test_ej_2_H))\n",
    "\n",
    "f1_train_ej_2_H = f1_score(y_true=y_train, y_pred= y_train_pred_ej_2_H)\n",
    "f1_test_ej_2_H = f1_score(y_true=y_test, y_pred= y_test_pred_ej_2_H)\n",
    "\n",
    "print('f1 para Árboles de Clasificación género masculino en train {:.4f}'.format(f1_train_ej_2_H))\n",
    "print('f1 para Árboles de Clasificación género masculino en test {:.4f}'.format(f1_test_ej_2_H))\n",
    "\n",
    "Ac_train_ej_2_H = accuracy_score(y_true=y_train, y_pred= y_train_pred_ej_2_H)\n",
    "Ac_test_ej_2_H = accuracy_score(y_true=y_test, y_pred= y_test_pred_ej_2_H)\n",
    "\n",
    "print('Accuracy para Árboles de Clasificación género masculino en train {:.4f}'.format(Ac_train_ej_2_H))\n",
    "print('Accuracy para Árboles de Clasificación género masculino en test {:.4f}'.format(Ac_train_ej_2_H))\n",
    "\n"
   ]
  },
  {
   "cell_type": "code",
   "execution_count": 305,
   "id": "f4d16f71",
   "metadata": {
    "scrolled": true
   },
   "outputs": [
    {
     "data": {
      "text/plain": [
       "SVC(C=100000, degree=5, gamma=1, kernel='poly')"
      ]
     },
     "execution_count": 305,
     "metadata": {},
     "output_type": "execute_result"
    }
   ],
   "source": [
    "#SVM\n",
    "SVC_model=SVC(kernel='poly', degree=5 ,C=100000, gamma=1)\n",
    "SVC_model.fit(X_train, y_train)"
   ]
  },
  {
   "cell_type": "code",
   "execution_count": 306,
   "id": "cf6beda9",
   "metadata": {},
   "outputs": [
    {
     "name": "stdout",
     "output_type": "stream",
     "text": [
      "r2 para SVM género femenino  en train 1.0000\n",
      "r2 para SVM  género femenino  en test 0.9649\n",
      "f1 para SVM género femenino  en train 1.0000\n",
      "f1 para SVM  género femenino  en test 0.9939\n",
      "Accuracy para SVM género femenino  en train 1.0000\n",
      "Accuracy para SVM género femenino  en test 1.0000\n"
     ]
    }
   ],
   "source": [
    "y_train_pred_ej_3_H = SVC_model.predict(X_train)\n",
    "y_test_pred_ej_3_H = SVC_model.predict(X_test)\n",
    "\n",
    "r2_train_ej_3_H = r2_score(y_true=y_train, y_pred= y_train_pred_ej_3_H)\n",
    "r2_test_ej_3_H = r2_score(y_true=y_test, y_pred= y_test_pred_ej_3_H)\n",
    "\n",
    "print('r2 para SVM género masculino   en train {:.4f}'.format(r2_train_ej_3_H))\n",
    "print('r2 para SVM  género masculino   en test {:.4f}'.format(r2_test_ej_3_H))\n",
    "\n",
    "f1_train_ej_3_H = f1_score(y_true=y_train, y_pred= y_train_pred_ej_3_H)\n",
    "f1_test_ej_3_H = f1_score(y_true=y_test, y_pred= y_test_pred_ej_3_H)\n",
    "\n",
    "print('f1 para SVM género masculino   en train {:.4f}'.format(f1_train_ej_3_H))\n",
    "print('f1 para SVM  género masculino   en test {:.4f}'.format(f1_test_ej_3_H))\n",
    "\n",
    "Ac_train_ej_3_H = accuracy_score(y_true=y_train, y_pred= y_train_pred_ej_3_H)\n",
    "Ac_test_ej_3_H = accuracy_score(y_true=y_test, y_pred= y_test_pred_ej_3_H)\n",
    "\n",
    "print('Accuracy para SVM género masculino   en train {:.4f}'.format(Ac_train_ej_3_H))\n",
    "print('Accuracy para SVM género masculino   en test {:.4f}'.format(Ac_train_ej_3_H))"
   ]
  },
  {
   "cell_type": "code",
   "execution_count": 308,
   "id": "18ca9fd3",
   "metadata": {},
   "outputs": [
    {
     "data": {
      "text/html": [
       "<div>\n",
       "<style scoped>\n",
       "    .dataframe tbody tr th:only-of-type {\n",
       "        vertical-align: middle;\n",
       "    }\n",
       "\n",
       "    .dataframe tbody tr th {\n",
       "        vertical-align: top;\n",
       "    }\n",
       "\n",
       "    .dataframe thead th {\n",
       "        text-align: right;\n",
       "    }\n",
       "</style>\n",
       "<table border=\"1\" class=\"dataframe\">\n",
       "  <thead>\n",
       "    <tr style=\"text-align: right;\">\n",
       "      <th></th>\n",
       "      <th>0</th>\n",
       "      <th>1</th>\n",
       "    </tr>\n",
       "  </thead>\n",
       "  <tbody>\n",
       "    <tr>\n",
       "      <th>0</th>\n",
       "      <td>43</td>\n",
       "      <td>1</td>\n",
       "    </tr>\n",
       "    <tr>\n",
       "      <th>1</th>\n",
       "      <td>1</td>\n",
       "      <td>80</td>\n",
       "    </tr>\n",
       "  </tbody>\n",
       "</table>\n",
       "</div>"
      ],
      "text/plain": [
       "    0   1\n",
       "0  43   1\n",
       "1   1  80"
      ]
     },
     "execution_count": 308,
     "metadata": {},
     "output_type": "execute_result"
    }
   ],
   "source": [
    "#KNN\n",
    "Confu_matrix_KNN=pd.DataFrame(confusion_matrix(y_true=y_test, y_pred= y_test_pred_ej_H))\n",
    "Confu_matrix_KNN"
   ]
  },
  {
   "cell_type": "code",
   "execution_count": 309,
   "id": "9dbf2264",
   "metadata": {},
   "outputs": [
    {
     "data": {
      "text/html": [
       "<div>\n",
       "<style scoped>\n",
       "    .dataframe tbody tr th:only-of-type {\n",
       "        vertical-align: middle;\n",
       "    }\n",
       "\n",
       "    .dataframe tbody tr th {\n",
       "        vertical-align: top;\n",
       "    }\n",
       "\n",
       "    .dataframe thead th {\n",
       "        text-align: right;\n",
       "    }\n",
       "</style>\n",
       "<table border=\"1\" class=\"dataframe\">\n",
       "  <thead>\n",
       "    <tr style=\"text-align: right;\">\n",
       "      <th></th>\n",
       "      <th>0</th>\n",
       "      <th>1</th>\n",
       "    </tr>\n",
       "  </thead>\n",
       "  <tbody>\n",
       "    <tr>\n",
       "      <th>0</th>\n",
       "      <td>44</td>\n",
       "      <td>0</td>\n",
       "    </tr>\n",
       "    <tr>\n",
       "      <th>1</th>\n",
       "      <td>0</td>\n",
       "      <td>81</td>\n",
       "    </tr>\n",
       "  </tbody>\n",
       "</table>\n",
       "</div>"
      ],
      "text/plain": [
       "    0   1\n",
       "0  44   0\n",
       "1   0  81"
      ]
     },
     "execution_count": 309,
     "metadata": {},
     "output_type": "execute_result"
    }
   ],
   "source": [
    "#AC\n",
    "Confu_matrix_AC=pd.DataFrame(confusion_matrix(y_true=y_test, y_pred= y_test_pred_ej_2_H))\n",
    "Confu_matrix_AC"
   ]
  },
  {
   "cell_type": "code",
   "execution_count": 310,
   "id": "b473059c",
   "metadata": {},
   "outputs": [
    {
     "data": {
      "text/html": [
       "<div>\n",
       "<style scoped>\n",
       "    .dataframe tbody tr th:only-of-type {\n",
       "        vertical-align: middle;\n",
       "    }\n",
       "\n",
       "    .dataframe tbody tr th {\n",
       "        vertical-align: top;\n",
       "    }\n",
       "\n",
       "    .dataframe thead th {\n",
       "        text-align: right;\n",
       "    }\n",
       "</style>\n",
       "<table border=\"1\" class=\"dataframe\">\n",
       "  <thead>\n",
       "    <tr style=\"text-align: right;\">\n",
       "      <th></th>\n",
       "      <th>0</th>\n",
       "      <th>1</th>\n",
       "    </tr>\n",
       "  </thead>\n",
       "  <tbody>\n",
       "    <tr>\n",
       "      <th>0</th>\n",
       "      <td>43</td>\n",
       "      <td>1</td>\n",
       "    </tr>\n",
       "    <tr>\n",
       "      <th>1</th>\n",
       "      <td>0</td>\n",
       "      <td>81</td>\n",
       "    </tr>\n",
       "  </tbody>\n",
       "</table>\n",
       "</div>"
      ],
      "text/plain": [
       "    0   1\n",
       "0  43   1\n",
       "1   0  81"
      ]
     },
     "execution_count": 310,
     "metadata": {},
     "output_type": "execute_result"
    }
   ],
   "source": [
    "#SVM\n",
    "Confu_matrix_SVM=pd.DataFrame(confusion_matrix(y_true=y_test, y_pred= y_test_pred_ej_3_H))\n",
    "Confu_matrix_SVM"
   ]
  },
  {
   "cell_type": "code",
   "execution_count": 326,
   "id": "aadc4cba",
   "metadata": {},
   "outputs": [
    {
     "name": "stdout",
     "output_type": "stream",
     "text": [
      "Número de créditos aprobados 108.000\n",
      "Número de créditos aprobados base completa con KNN 0.5373\n"
     ]
    }
   ],
   "source": [
    "#BASE COMPLETA\n",
    "#KNN\n",
    "Aprobados=y_test_pred_ej.sum()\n",
    "Solicitados= len(y_test_pred_ej)\n",
    "Ratio=Aprobados/Solicitados\n",
    "print('Número de créditos aprobados {:.3f}'.format(Aprobados))\n",
    "print('Número de créditos aprobados base completa con KNN {:.4f}'.format(Ratio))"
   ]
  },
  {
   "cell_type": "code",
   "execution_count": 327,
   "id": "e1aa651c",
   "metadata": {},
   "outputs": [
    {
     "name": "stdout",
     "output_type": "stream",
     "text": [
      "Número de créditos aprobados 112.000\n",
      "Número de créditos aprobados base completa con Árboles de Clasificación 0.5572\n"
     ]
    }
   ],
   "source": [
    "#AC\n",
    "Aprobados=y_test_pred_ej_2.sum()\n",
    "Solicitados= len(y_test_pred_ej_2)\n",
    "Ratio=Aprobados/Solicitados\n",
    "print('Número de créditos aprobados {:.3f}'.format(Aprobados))\n",
    "print('Número de créditos aprobados base completa con Árboles de Clasificación {:.4f}'.format(Ratio))"
   ]
  },
  {
   "cell_type": "code",
   "execution_count": 328,
   "id": "7db352e0",
   "metadata": {},
   "outputs": [
    {
     "name": "stdout",
     "output_type": "stream",
     "text": [
      "Número de créditos aprobados 108.000\n",
      "Número de créditos aprobados base completas con Árboles de Clasificación 0.5373\n"
     ]
    }
   ],
   "source": [
    "#SVM\n",
    "Aprobados=y_test_pred_ej_3.sum()\n",
    "Solicitados= len(y_test_pred_ej_3)\n",
    "Ratio=Aprobados/Solicitados\n",
    "print('Número de créditos aprobados {:.3f}'.format(Aprobados))\n",
    "print('Número de créditos aprobados base completas con Árboles de Clasificación {:.4f}'.format(Ratio))"
   ]
  },
  {
   "cell_type": "code",
   "execution_count": 329,
   "id": "727e7de8",
   "metadata": {},
   "outputs": [
    {
     "name": "stdout",
     "output_type": "stream",
     "text": [
      "Número de créditos aprobados 17.000\n",
      "Número de créditos aprobados para mujeres con KNN 0.3953\n"
     ]
    }
   ],
   "source": [
    "#Ahora,observemos con datos desconocidos cuantos créditos fueron aprobados para mujeres\n",
    "#KNN\n",
    "Aprobados=y_test_pred_ej_M.sum()\n",
    "Solicitados= len(y_test_pred_ej_M)\n",
    "Ratio=Aprobados/Solicitados\n",
    "print('Número de créditos aprobados {:.3f}'.format(Aprobados))\n",
    "print('Número de créditos aprobados para mujeres con KNN {:.4f}'.format(Ratio))"
   ]
  },
  {
   "cell_type": "code",
   "execution_count": 331,
   "id": "1ffa3ac0",
   "metadata": {},
   "outputs": [
    {
     "name": "stdout",
     "output_type": "stream",
     "text": [
      "Número de créditos aprobados 18.000\n",
      "Número de créditos aprobados para mujeres con Árboles de Clasificación 0.4186\n"
     ]
    }
   ],
   "source": [
    "#AC\n",
    "Aprobados=y_test_pred_ej_2_M.sum()\n",
    "Solicitados= len(y_test_pred_ej_2_M)\n",
    "Ratio=Aprobados/Solicitados\n",
    "print('Número de créditos aprobados {:.3f}'.format(Aprobados))\n",
    "print('Número de créditos aprobados para mujeres con Árboles de Clasificación {:.4f}'.format(Ratio))"
   ]
  },
  {
   "cell_type": "code",
   "execution_count": 335,
   "id": "b2b39b83",
   "metadata": {},
   "outputs": [
    {
     "name": "stdout",
     "output_type": "stream",
     "text": [
      "Número de créditos aprobados 81.000\n",
      "Número de créditos aprobados para hombres con KNN 0.6480\n"
     ]
    }
   ],
   "source": [
    "#Para hombres\n",
    "#KNN\n",
    "Aprobados=y_test_pred_ej_H.sum()\n",
    "Solicitados= len(y_test_pred_ej_H)\n",
    "Ratio=Aprobados/Solicitados\n",
    "print('Número de créditos aprobados {:.3f}'.format(Aprobados))\n",
    "print('Número de créditos aprobados para hombres con KNN {:.4f}'.format(Ratio))"
   ]
  },
  {
   "cell_type": "code",
   "execution_count": 337,
   "id": "70329953",
   "metadata": {},
   "outputs": [
    {
     "name": "stdout",
     "output_type": "stream",
     "text": [
      "Número de créditos aprobados 81.000\n",
      "Número de créditos aprobados para hombres con Árboles de Clasificación 0.6480\n"
     ]
    }
   ],
   "source": [
    "#AC\n",
    "Aprobados=y_test_pred_ej_2_H.sum()\n",
    "Solicitados= len(y_test_pred_ej_2_H)\n",
    "Ratio=Aprobados/Solicitados\n",
    "print('Número de créditos aprobados {:.3f}'.format(Aprobados))\n",
    "print('Número de créditos aprobados para hombres con Árboles de Clasificación {:.4f}'.format(Ratio))"
   ]
  },
  {
   "cell_type": "code",
   "execution_count": 338,
   "id": "bbffd5ef",
   "metadata": {},
   "outputs": [
    {
     "name": "stdout",
     "output_type": "stream",
     "text": [
      "Número de créditos aprobados 82.000\n",
      "Número de créditos aprobados para hombres con SVM 0.6560\n"
     ]
    }
   ],
   "source": [
    "#SVM\n",
    "Aprobados=y_test_pred_ej_3_H.sum()\n",
    "Solicitados= len(y_test_pred_ej_3_H)\n",
    "Ratio=Aprobados/Solicitados\n",
    "print('Número de créditos aprobados {:.3f}'.format(Aprobados))\n",
    "print('Número de créditos aprobados para hombres con SVM {:.4f}'.format(Ratio))"
   ]
  }
 ],
 "metadata": {
  "kernelspec": {
   "display_name": "Python 3",
   "language": "python",
   "name": "python3"
  },
  "language_info": {
   "codemirror_mode": {
    "name": "ipython",
    "version": 3
   },
   "file_extension": ".py",
   "mimetype": "text/x-python",
   "name": "python",
   "nbconvert_exporter": "python",
   "pygments_lexer": "ipython3",
   "version": "3.8.8"
  }
 },
 "nbformat": 4,
 "nbformat_minor": 5
}
